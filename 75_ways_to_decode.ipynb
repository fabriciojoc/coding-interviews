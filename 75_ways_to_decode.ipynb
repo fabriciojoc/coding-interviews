{
 "cells": [
  {
   "cell_type": "markdown",
   "metadata": {},
   "source": [
    "# Ways to Decode\n",
    "\n",
    "## Problem Description\n",
    "\n",
    "A message containing letters from A-Z is being encoded to numbers using the following mapping:\n",
    "\n",
    "```\n",
    " 'A' -> 1  \n",
    " 'B' -> 2  \n",
    " ...       \n",
    " 'Z' -> 26 \n",
    "```\n",
    "\n",
    "Given an encoded message A containing digits, determine the total number of ways to decode it modulo 10^9 + 7.\n",
    "\n",
    "## Problem Constraints\n",
    "\n",
    "1 <= |A| <= 10^5\n",
    "\n",
    "## Input Format\n",
    "\n",
    "The first and the only argument is a string A.\n",
    "\n",
    "## Output Format\n",
    "\n",
    "Return a single integer denoting the total number of ways to decode it modulo 10^9 + 7.\n",
    "\n",
    "## Example Input\n",
    "\n",
    "Input 1:\n",
    "\n",
    "``A = \"8\"``\n",
    "\n",
    "Input 2:\n",
    "\n",
    "``A = \"12\"``\n",
    "\n",
    "## Example Output\n",
    "\n",
    "Output 1:\n",
    "\n",
    "``1``\n",
    "\n",
    "Output 2:\n",
    "\n",
    "``2``\n",
    "\n",
    "## Example Explanation\n",
    "\n",
    "Explanation 1:\n",
    "\n",
    "Given encoded message \"8\", it could be decoded as only \"H\" (8). The number of ways decoding \"8\" is 1.\n",
    "\n",
    "Explanation 2:\n",
    "\n",
    "Given encoded message \"12\", it could be decoded as \"AB\" (1, 2) or \"L\" (12). The number of ways decoding \"12\" is 2."
   ]
  },
  {
   "cell_type": "code",
   "execution_count": 5,
   "metadata": {},
   "outputs": [],
   "source": [
    "class Solution:\n",
    "    # @param A : string\n",
    "    # @return an integer\n",
    "    def numDecodings(self, A):\n",
    "        if len(A) == 0:\n",
    "            return 0\n",
    "        \n",
    "        # No decoding starting with 0 will be a valid decoding. \n",
    "        if int(A[0]) == 0:\n",
    "            return 0\n",
    "        \n",
    "        n = len(A)\n",
    "        \n",
    "        # Mark everything as zero initially\n",
    "        result = [0]*(n+1)# for _ in range(0, n+1)]\n",
    "        \n",
    "        # Now that we know that the string does not begin with zero, \n",
    "        # the minimum number of decodings for a length 2 string will be 1. \n",
    "        # So mark both as 1.\n",
    "        result[0] = result[1] = 1\n",
    "        \n",
    "        for i in range(1, n):\n",
    "            \n",
    "            # At every step, we can either decode 1 or 2 characters. Fish them out.\n",
    "            v1 = int(A[i:i+1])\n",
    "            v2 = int(A[i-1:i+1])\n",
    "            \n",
    "            # A number starting with 0, won't be a valid single number decoding. \n",
    "            # It can only fit with either 10 or 20 (depends on previous number)\n",
    "            if 0 < v1 <= 9:\n",
    "                # If we get a valid single number decoding, the number of decodings will\n",
    "                # same as previous. Because a single valid decoding won't add to your count.\n",
    "                result[i+1] = result[i]\n",
    "            \n",
    "            if 10 <= v2 <= 26:\n",
    "                # Check if a double number decoding is valid. \n",
    "                # If it is valid, we need to add everything before this two digit number to the current number.\n",
    "                result[i+1] = result[i+1] + result[i-1]\n",
    "            \n",
    "            # At any state, if we are not able to modify something, it is invalid.\n",
    "            if result[i+1] == 0:\n",
    "                return 0\n",
    "                \n",
    "        answer = result[n]\n",
    "        return answer"
   ]
  },
  {
   "cell_type": "code",
   "execution_count": 6,
   "metadata": {},
   "outputs": [
    {
     "data": {
      "text/plain": [
       "2"
      ]
     },
     "execution_count": 6,
     "metadata": {},
     "output_type": "execute_result"
    }
   ],
   "source": [
    "Solution().numDecodings('12')"
   ]
  }
 ],
 "metadata": {
  "kernelspec": {
   "display_name": "Python 3",
   "language": "python",
   "name": "python3"
  },
  "language_info": {
   "codemirror_mode": {
    "name": "ipython",
    "version": 3
   },
   "file_extension": ".py",
   "mimetype": "text/x-python",
   "name": "python",
   "nbconvert_exporter": "python",
   "pygments_lexer": "ipython3",
   "version": "3.5.2"
  }
 },
 "nbformat": 4,
 "nbformat_minor": 4
}

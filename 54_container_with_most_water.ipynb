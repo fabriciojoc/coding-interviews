{
 "cells": [
  {
   "cell_type": "markdown",
   "metadata": {},
   "source": [
    "# Container With Most Water\n",
    "\n",
    "Given n non-negative integers a1, a2, ..., an,\n",
    "\n",
    "where each represents a point at coordinate (i, ai).\n",
    "\n",
    "'n' vertical lines are drawn such that the two endpoints of line i is at (i, ai) and (i, 0).\n",
    "\n",
    "Find two lines, which together with x-axis forms a container, such that the container contains the most water.\n",
    "\n",
    "Your program should return an integer which corresponds to the maximum area of water that can be contained ( Yes, we know maximum area instead of maximum volume sounds weird. But this is 2D plane we are working with for simplicity ).\n",
    "\n",
    "Note: You may not slant the container.\n",
    "\n",
    "Example :\n",
    "\n",
    "Input : [1, 5, 4, 3]\n",
    "\n",
    "Output : 6\n",
    "\n",
    "Explanation : 5 and 3 are distance 2 apart. So size of the base = 2. Height of container = min(5, 3) = 3. \n",
    "So total area = 3 * 2 = 6\n"
   ]
  },
  {
   "cell_type": "code",
   "execution_count": 1,
   "metadata": {},
   "outputs": [],
   "source": [
    "class Solution:\n",
    "    # @param A : list of integers\n",
    "    # @return an integer\n",
    "    def maxArea(self, A):\n",
    "        m = 0\n",
    "        for i in range(len(A)-1):\n",
    "            for j in range(i + 1, len(A)):\n",
    "                base = j - i\n",
    "                height = min(A[i], A[j])\n",
    "                vol = base*height \n",
    "                if vol > m:\n",
    "                    m = vol\n",
    "        return m"
   ]
  },
  {
   "cell_type": "code",
   "execution_count": 2,
   "metadata": {},
   "outputs": [
    {
     "data": {
      "text/plain": [
       "6"
      ]
     },
     "execution_count": 2,
     "metadata": {},
     "output_type": "execute_result"
    }
   ],
   "source": [
    "Solution().maxArea([1,5,4,3])"
   ]
  }
 ],
 "metadata": {
  "kernelspec": {
   "display_name": "Python 3",
   "language": "python",
   "name": "python3"
  },
  "language_info": {
   "codemirror_mode": {
    "name": "ipython",
    "version": 3
   },
   "file_extension": ".py",
   "mimetype": "text/x-python",
   "name": "python",
   "nbconvert_exporter": "python",
   "pygments_lexer": "ipython3",
   "version": "3.5.2"
  }
 },
 "nbformat": 4,
 "nbformat_minor": 4
}

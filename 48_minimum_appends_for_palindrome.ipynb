{
 "cells": [
  {
   "cell_type": "markdown",
   "metadata": {},
   "source": [
    "# Minimum Appends for Palindrome!\n",
    "\n",
    "Problem Description\n",
    "\n",
    "Given a string A consisting of lowercase characters.\n",
    "\n",
    "We need to tell minimum characters to be appended (insertion at end) to make the string A a palindrome.\n",
    "\n",
    "\n",
    "\n",
    "Problem Constraints\n",
    "1 <= |A| <= 105\n",
    "\n",
    "A consists only of lower-case characters.\n",
    "\n",
    "\n",
    "\n",
    "Input Format\n",
    "First argument is an string A.\n",
    "\n",
    "\n",
    "\n",
    "Output Format\n",
    "Return a integer denoting the minimum characters to be appended (insertion at end) to make the string A a palindrome.\n",
    "\n",
    "\n",
    "\n",
    "Example Input\n",
    "Input 1:\n",
    "\n",
    " A = \"abede\"\n",
    "Input 2:\n",
    "\n",
    " A = \"aabb\"\n",
    "\n",
    "\n",
    "Example Output\n",
    "Output 1:\n",
    "\n",
    " 2\n",
    "Output 2:\n",
    "\n",
    " 2\n",
    "\n",
    "\n",
    "Example Explanation\n",
    "Explanation 1:\n",
    "\n",
    " We can make string palindrome as \"abedeba\" by adding ba at the end of the string.\n",
    "Explanation 2:\n",
    "\n",
    " We can make string palindrome as \"aabbaa\" by adding aa at the end of the string."
   ]
  },
  {
   "cell_type": "code",
   "execution_count": 1,
   "metadata": {},
   "outputs": [],
   "source": [
    "class Solution:\n",
    "\n",
    "    def isPalindrome(self, A):\n",
    "        for i, j in zip(range(0,len(A)//2), range(len(A) - 1, len(A)//2 - 1, -1)):\n",
    "            if A[i] != A[j]:\n",
    "                return i\n",
    "        return -1\n",
    "\n",
    "    # 12322\n",
    "\n",
    "    # @param A : string\n",
    "    # @return an integer\n",
    "    def solve(self, A):\n",
    "        if len(A) == 1 or A ==A[::-1]:\n",
    "            return 0\n",
    "        A =A[::-1]\n",
    "        target = A[0]\n",
    "        for i in range(1,len(A)):\n",
    "            if A[i] == target:\n",
    "                X =A[0:i+1]\n",
    "                if X == X[::-1]:\n",
    "                    return len(A)-1-i\n",
    "                else:\n",
    "                    return len(A)-1\n",
    "        return len(A)-1\n",
    "    # def solve(self, A):\n",
    "    #     cont = 0\n",
    "    #     s = A\n",
    "    #     isPal = self.isPalindrome(A)\n",
    "    #     while isPal != -1:\n",
    "    #         s = \n",
    "    #         cont += 1"
   ]
  },
  {
   "cell_type": "code",
   "execution_count": 4,
   "metadata": {},
   "outputs": [
    {
     "data": {
      "text/plain": [
       "1"
      ]
     },
     "execution_count": 4,
     "metadata": {},
     "output_type": "execute_result"
    }
   ],
   "source": [
    "Solution().solve(\"1434\")\n",
    "\n",
    "# |\n",
    "# 4 3 4 1\n",
    "#     |"
   ]
  }
 ],
 "metadata": {
  "kernelspec": {
   "display_name": "Python 3",
   "language": "python",
   "name": "python3"
  },
  "language_info": {
   "codemirror_mode": {
    "name": "ipython",
    "version": 3
   },
   "file_extension": ".py",
   "mimetype": "text/x-python",
   "name": "python",
   "nbconvert_exporter": "python",
   "pygments_lexer": "ipython3",
   "version": "3.5.2"
  }
 },
 "nbformat": 4,
 "nbformat_minor": 4
}

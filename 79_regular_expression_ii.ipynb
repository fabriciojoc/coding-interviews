{
 "cells": [
  {
   "cell_type": "markdown",
   "metadata": {},
   "source": [
    "# Regular Expression II\n",
    "\n",
    "Implement regular expression matching with support for '.' and '*'.\n",
    "\n",
    "'.' Matches any single character.\n",
    "\n",
    "'*' Matches zero or more of the preceding element.\n",
    "\n",
    "The matching should cover the entire input string (not partial).\n",
    "\n",
    "The function prototype should be:\n",
    "\n",
    "int isMatch(const char *s, const char *p)\n",
    "Some examples:\n",
    "\n",
    "```\n",
    "isMatch(\"aa\",\"a\") → 0\n",
    "isMatch(\"aa\",\"aa\") → 1\n",
    "isMatch(\"aaa\",\"aa\") → 0\n",
    "isMatch(\"aa\", \"a*\") → 1\n",
    "isMatch(\"aa\", \".*\") → 1\n",
    "isMatch(\"ab\", \".*\") → 1\n",
    "isMatch(\"aab\", \"c*a*b\") → 1\n",
    "```\n",
    "\n",
    "Return 0 / 1 ( 0 for false, 1 for true ) for this problem"
   ]
  },
  {
   "cell_type": "code",
   "execution_count": 1,
   "metadata": {},
   "outputs": [],
   "source": [
    "class Solution:\n",
    "    def regex_helper(self,A,B,m,n):\n",
    "        if m < 0 and n < 0: return 1\n",
    "        if m < 0 and n >= 0: return 0\n",
    "        if m >= 0 and n < 0: return 0\n",
    "        if B[n] != '*':\n",
    "            if not B[n] in ['.', A[m]]:\n",
    "                return 0\n",
    "            else:\n",
    "                return self.regex_helper(A,B,m-1,n-1)\n",
    "        # if n == 0: return 0\n",
    "        if B[n-1] == '.': \n",
    "            return 1\n",
    "        else:\n",
    "            if A[m] != B[n-1]:\n",
    "                return self.regex_helper(A,B,m,n-2)\n",
    "            while A[m] == B[n-1]:\n",
    "                if m == 0: return 1\n",
    "                m -= 1\n",
    "            return self.regex_helper(A,B,m,n-2)\n",
    "\n",
    "    # @param s : string\n",
    "    # @param p : string\n",
    "    # @return an integer\n",
    "    def isMatch(self, s, p):\n",
    "        return self.regex_helper(s,p,len(s)-1,len(p)-1)"
   ]
  }
 ],
 "metadata": {
  "kernelspec": {
   "display_name": "Python 3",
   "language": "python",
   "name": "python3"
  },
  "language_info": {
   "codemirror_mode": {
    "name": "ipython",
    "version": 3
   },
   "file_extension": ".py",
   "mimetype": "text/x-python",
   "name": "python",
   "nbconvert_exporter": "python",
   "pygments_lexer": "ipython3",
   "version": "3.5.2"
  }
 },
 "nbformat": 4,
 "nbformat_minor": 4
}

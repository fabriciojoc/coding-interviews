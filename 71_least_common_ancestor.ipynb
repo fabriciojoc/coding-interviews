{
 "cells": [
  {
   "cell_type": "markdown",
   "metadata": {},
   "source": [
    "# Least Common Ancestor\n",
    "\n",
    "Find the lowest common ancestor in an unordered binary tree given two values in the tree.\n",
    "\n",
    "**Lowest common ancestor:** the lowest common ancestor (LCA) of two nodes v and w in a tree or directed acyclic graph (DAG) is the lowest (i.e. deepest) node that has both v and w as descendants.\n",
    "\n",
    "Example :\n",
    "\n",
    "```\n",
    "        _______3______         \n",
    "\n",
    "       /              \\        \n",
    "\n",
    "    ___5__          ___1__     \n",
    "\n",
    "   /      \\        /      \\    \n",
    "\n",
    "   6      _2_     0        8   \n",
    "\n",
    "         /   \\                 \n",
    "\n",
    "         7    4                \n",
    "```\n",
    "\n",
    "For the above tree, the LCA of nodes 5 and 1 is 3.\n",
    "\n",
    "> LCA = Lowest common ancestor\n",
    "\n",
    "Please note that LCA for nodes 5 and 4 is 5.\n",
    "\n",
    "- You are given 2 values. Find the lowest common ancestor of the two nodes represented by val1 and val2\n",
    "- No guarantee that val1 and val2 exist in the tree. If one value doesn’t exist in the tree then return -1.\n",
    "- There are no duplicate values.\n",
    "- You can use extra memory, helper functions, and can modify the node struct but, you can’t add a parent pointer.\n"
   ]
  },
  {
   "cell_type": "code",
   "execution_count": 39,
   "metadata": {},
   "outputs": [],
   "source": [
    "# Definition for a  binary tree node\n",
    "class TreeNode:\n",
    "    def __init__(self, x):\n",
    "        self.val = x\n",
    "        self.left = None\n",
    "        self.right = None\n",
    "# visited_vals = []\n",
    "class Solution:\n",
    "\n",
    "    def get_path(self, A, B, visited_vals):\n",
    "        if not A:\n",
    "            return []\n",
    "        visited_vals.append(A.val)\n",
    "        if A.val == B:\n",
    "            return [B]\n",
    "        left = self.get_path(A.left, B, visited_vals)\n",
    "        if left:\n",
    "            return [A.val] + left\n",
    "        right = self.get_path(A.right, B, visited_vals)\n",
    "        if right:\n",
    "            return [A.val] + right\n",
    "        return []\n",
    "\n",
    "\n",
    "    # @param A : root node of tree\n",
    "    # @param B : integer\n",
    "    # @param C : integer\n",
    "    # @return an integer\n",
    "    def lca(self, A, B, C):\n",
    "        path_B = self.get_path(A,B,[])\n",
    "        path_C = self.get_path(A,C,[])\n",
    "        mini = -1\n",
    "        for b, c in zip(path_B, path_C):\n",
    "            if b != c:\n",
    "                break\n",
    "            mini = b\n",
    "        return mini"
   ]
  },
  {
   "cell_type": "code",
   "execution_count": 40,
   "metadata": {},
   "outputs": [
    {
     "data": {
      "text/plain": [
       "3"
      ]
     },
     "execution_count": 40,
     "metadata": {},
     "output_type": "execute_result"
    }
   ],
   "source": [
    "t = TreeNode(3)\n",
    "t.left = TreeNode(5)\n",
    "t.right = TreeNode(1)\n",
    "t.left.left = TreeNode(6)\n",
    "t.left.right = TreeNode(2)\n",
    "t.left.right.left = TreeNode(7)\n",
    "t.left.right.right = TreeNode(4)\n",
    "t.right.left = TreeNode(0)\n",
    "t.right.right = TreeNode(8)\n",
    "s = Solution()\n",
    "s.lca(t, 5, 1)"
   ]
  }
 ],
 "metadata": {
  "kernelspec": {
   "display_name": "Python 3",
   "language": "python",
   "name": "python3"
  },
  "language_info": {
   "codemirror_mode": {
    "name": "ipython",
    "version": 3
   },
   "file_extension": ".py",
   "mimetype": "text/x-python",
   "name": "python",
   "nbconvert_exporter": "python",
   "pygments_lexer": "ipython3",
   "version": "3.5.2"
  }
 },
 "nbformat": 4,
 "nbformat_minor": 4
}

{
 "cells": [
  {
   "cell_type": "markdown",
   "metadata": {},
   "source": [
    "# Max Sum Contiguous Subarray\n",
    "\n",
    "Find the contiguous subarray within an array, A of length N which has the largest sum.\n",
    "\n",
    "## Input Format:\n",
    "\n",
    "The first and the only argument contains an integer array, A.\n",
    "\n",
    "## Output Format:\n",
    "\n",
    "Return an integer representing the maximum possible sum of the contiguous subarray.\n",
    "\n",
    "## Constraints:\n",
    "\n",
    "1 <= N <= 1e6\n",
    "-1000 <= A[i] <= 1000\n",
    "\n",
    "## For example:\n",
    "\n",
    "Input 1: ``A = [1, 2, 3, 4, -10]``\n",
    "\n",
    "Output 1: ``10``\n",
    "\n",
    "Explanation 1: The subarray ``[1, 2, 3, 4]`` has the maximum possible sum of 10.\n",
    "\n",
    "Input 2: ``A = [-2, 1, -3, 4, -1, 2, 1, -5, 4]``\n",
    "\n",
    "Output 2: ``6``\n",
    "\n",
    "Explanation 2: The subarray ``[4,-1,2,1]`` has the maximum possible sum of 6."
   ]
  },
  {
   "cell_type": "code",
   "execution_count": 1,
   "metadata": {},
   "outputs": [
    {
     "data": {
      "text/plain": [
       "10"
      ]
     },
     "execution_count": 1,
     "metadata": {},
     "output_type": "execute_result"
    }
   ],
   "source": [
    "# @param A : tuple of integers\n",
    "# @return an integer\n",
    "def maxSubArray(A):\n",
    "    # itialize\n",
    "    out = [n for n in A]\n",
    "    for i in range(1,len(A)):\n",
    "        out[i] = max(out[i], out[i] + out[i-1])\n",
    "    return(max(out))\n",
    "\n",
    "maxSubArray(A=[1,2,3,4,-10])"
   ]
  }
 ],
 "metadata": {
  "kernelspec": {
   "display_name": "Python 3",
   "language": "python",
   "name": "python3"
  },
  "language_info": {
   "codemirror_mode": {
    "name": "ipython",
    "version": 3
   },
   "file_extension": ".py",
   "mimetype": "text/x-python",
   "name": "python",
   "nbconvert_exporter": "python",
   "pygments_lexer": "ipython3",
   "version": "3.5.2"
  }
 },
 "nbformat": 4,
 "nbformat_minor": 4
}

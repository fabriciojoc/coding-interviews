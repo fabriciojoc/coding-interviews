{
 "cells": [
  {
   "cell_type": "markdown",
   "metadata": {},
   "source": [
    "# BST Iterator\n",
    "\n",
    "Implement an iterator over a binary search tree (BST). Your iterator will be initialized with the root node of a BST.\n",
    "\n",
    "The first call to next() will return the smallest number in BST. Calling next() again will return the next smallest number in the BST, and so on.\n",
    "\n",
    "**Note:** next() and hasNext() should run in average O(1) time and uses O(h) memory, where h is the height of the tree.\n",
    "\n",
    "Try to optimize the additional space complexity apart from the amortized time complexity."
   ]
  },
  {
   "cell_type": "code",
   "execution_count": 4,
   "metadata": {},
   "outputs": [],
   "source": [
    "# Definition for a  binary tree node\n",
    "class TreeNode:\n",
    "    def __init__(self, x):\n",
    "        self.val = x\n",
    "        self.left = None\n",
    "        self.right = None\n",
    "\n",
    "class BSTIterator:\n",
    "\n",
    "    def __in_order__(self, root):\n",
    "        if not root:\n",
    "            return\n",
    "        self.__in_order__(root.left)\n",
    "        self.nodes.append(root)\n",
    "        self.__in_order__(root.right)\n",
    "\n",
    "\n",
    "    # @param root, a binary search tree's root node\n",
    "    def __init__(self, root):\n",
    "        self.nodes = []\n",
    "        self.i = 0\n",
    "        self.__in_order__(root)\n",
    "        \n",
    "\n",
    "    # @return a boolean, whether we have a next smallest number\n",
    "    def hasNext(self):\n",
    "        return self.i < len(self.nodes)\n",
    "        \n",
    "\n",
    "    # @return an integer, the next smallest number\n",
    "    def next(self):\n",
    "        if self.hasNext:\n",
    "            val = self.nodes[self.i].val\n",
    "            self.i += 1\n",
    "            return val\n",
    "        else:\n",
    "            return None\n",
    "        \n",
    "\n",
    "# Your BSTIterator will be called like this:\n",
    "# i = BSTIterator(root)\n",
    "# while i.hasNext(): print i.next(),\n"
   ]
  },
  {
   "cell_type": "code",
   "execution_count": 7,
   "metadata": {},
   "outputs": [
    {
     "name": "stdout",
     "output_type": "stream",
     "text": [
      "1 2 3 4 5 6 7 "
     ]
    }
   ],
   "source": [
    "t = TreeNode(4)\n",
    "t.left = TreeNode(2)\n",
    "t.right = TreeNode(6)\n",
    "t.left.left = TreeNode(1)\n",
    "t.left.right = TreeNode(3)\n",
    "t.right.left = TreeNode(5)\n",
    "t.right.right = TreeNode(7)\n",
    "i = BSTIterator(t)\n",
    "while i.hasNext(): \n",
    "    print(i.next(), end=' ')"
   ]
  }
 ],
 "metadata": {
  "kernelspec": {
   "display_name": "Python 3",
   "language": "python",
   "name": "python3"
  },
  "language_info": {
   "codemirror_mode": {
    "name": "ipython",
    "version": 3
   },
   "file_extension": ".py",
   "mimetype": "text/x-python",
   "name": "python",
   "nbconvert_exporter": "python",
   "pygments_lexer": "ipython3",
   "version": "3.5.2"
  }
 },
 "nbformat": 4,
 "nbformat_minor": 4
}

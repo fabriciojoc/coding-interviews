{
 "cells": [
  {
   "cell_type": "markdown",
   "metadata": {},
   "source": [
    "# 2 Sum\n",
    "\n",
    "Problem Description\n",
    "\n",
    "Given an array of integers, find two numbers such that they add up to a specific target number.\n",
    "\n",
    "The function twoSum should return indices of the two numbers such that they add up to the target, where index1 < index2. Please note that your returned answers (both index1 and index2 ) are not zero-based. Put both these numbers in order in an array and return the array from your function ( Looking at the function signature will make things clearer ). Note that, if no pair exists, return empty list.\n",
    "\n",
    "If multiple solutions exist, output the one where index2 is minimum. If there are multiple solutions with the minimum index2, choose the one with minimum index1 out of them.\n",
    "\n",
    "Input: [2, 7, 11, 15], target=9\n",
    "\n",
    "Output: index1 = 1, index2 = 2\n",
    "\n"
   ]
  },
  {
   "cell_type": "code",
   "execution_count": 2,
   "metadata": {},
   "outputs": [],
   "source": [
    "import math\n",
    "\n",
    "class Solution:\n",
    "    # @param A : tuple of integers\n",
    "    # @param B : integer\n",
    "    # @return a list of integers\n",
    "    def twoSum(self, A, B):\n",
    "        index1 = math.inf\n",
    "        index2 = math.inf\n",
    "        for i in range(len(A)-1):\n",
    "            for j in range(i+1, len(A)):\n",
    "                if A[i] + A[j] == B and j < index2-1:\n",
    "                    if j == index2-1 and i < index1-1:\n",
    "                        index1 = i+1\n",
    "                        index2 = j+1\n",
    "                    else:\n",
    "                        index1 = i+1\n",
    "                        index2 = j+1\n",
    "        if index1 != math.inf and index2 != math.inf:\n",
    "            return [index1, index2]\n",
    "        else:\n",
    "            return []"
   ]
  },
  {
   "cell_type": "code",
   "execution_count": 3,
   "metadata": {},
   "outputs": [
    {
     "data": {
      "text/plain": [
       "[1, 2]"
      ]
     },
     "execution_count": 3,
     "metadata": {},
     "output_type": "execute_result"
    }
   ],
   "source": [
    "Solution().twoSum([2, 7, 11, 15], 9)"
   ]
  },
  {
   "cell_type": "code",
   "execution_count": 4,
   "metadata": {},
   "outputs": [],
   "source": [
    "class Solution:\n",
    "    # @param A : tuple of integers\n",
    "    # @param B : integer\n",
    "    # @return a list of integers\n",
    "    def twoSum(self, A, k):\n",
    "        diffs = {}\n",
    "        for i, v in enumerate(A):\n",
    "            if k - v in diffs:\n",
    "                return diffs[k - v] + 1, i + 1\n",
    "            elif v not in diffs:\n",
    "                diffs[v] = i\n",
    "        return []"
   ]
  },
  {
   "cell_type": "code",
   "execution_count": 5,
   "metadata": {},
   "outputs": [
    {
     "data": {
      "text/plain": [
       "(1, 2)"
      ]
     },
     "execution_count": 5,
     "metadata": {},
     "output_type": "execute_result"
    }
   ],
   "source": [
    "Solution().twoSum([2, 7, 11, 15], 9)"
   ]
  }
 ],
 "metadata": {
  "kernelspec": {
   "display_name": "Python 3",
   "language": "python",
   "name": "python3"
  },
  "language_info": {
   "codemirror_mode": {
    "name": "ipython",
    "version": 3
   },
   "file_extension": ".py",
   "mimetype": "text/x-python",
   "name": "python",
   "nbconvert_exporter": "python",
   "pygments_lexer": "ipython3",
   "version": "3.5.2"
  }
 },
 "nbformat": 4,
 "nbformat_minor": 4
}

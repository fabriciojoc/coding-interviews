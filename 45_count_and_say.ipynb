{
 "cells": [
  {
   "cell_type": "markdown",
   "metadata": {},
   "source": [
    "# Count And Say\n",
    "\n",
    "Problem Description\n",
    "\n",
    "The count-and-say sequence is the sequence of integers beginning as follows: \n",
    "1, 11, 21, 1211, 111221, ...\n",
    "1 is read off as one 1 or 11. 11 is read off as two 1s or 21.\n",
    "21 is read off as one 2, then one 1 or 1211.\n",
    "\n",
    "Given an integer n, generate the nth sequence.\n",
    "\n",
    "Note: The sequence of integers will be represented as a string.\n",
    "\n",
    "Example:\n",
    "\n",
    "if n = 2, the sequence is 11."
   ]
  },
  {
   "cell_type": "code",
   "execution_count": 1,
   "metadata": {},
   "outputs": [],
   "source": [
    "class Solution:\n",
    "\tdef translate_seq(self, seq):\n",
    "\t\ti = 0\n",
    "\t\tnew_seq = ''\n",
    "\t\twhile i < len(seq):\n",
    "\t\t\ttransf = False\n",
    "\t\t\tif i + 2 <= len(seq):\n",
    "\t\t\t\tif seq[i:i+2] == '11':\n",
    "\t\t\t\t\tnew_seq += '21'\n",
    "\t\t\t\t\ti += 2\n",
    "\t\t\t\t\ttransf = True\n",
    "\t\t\tif not transf:\n",
    "\t\t\t\tif seq[i] == '1':\n",
    "\t\t\t\t\tnew_seq += '11'\n",
    "\t\t\t\telif seq[i] == '2':\n",
    "\t\t\t\t\tnew_seq += '12'\n",
    "\t\t\t\ti += 1\n",
    "\t\treturn new_seq\n",
    "\t# @param A : integer\n",
    "\t# @return a strings\n",
    "\tdef countAndSay(self, A):\n",
    "\t\tseq = \"1\"\n",
    "\t\tfor i in range(A-1):\n",
    "\t\t\tseq = self.translate_seq(seq)\n",
    "\t\treturn seq\n"
   ]
  },
  {
   "cell_type": "code",
   "execution_count": 2,
   "metadata": {},
   "outputs": [
    {
     "data": {
      "text/plain": [
       "'11'"
      ]
     },
     "execution_count": 2,
     "metadata": {},
     "output_type": "execute_result"
    }
   ],
   "source": [
    "Solution().countAndSay(2)"
   ]
  },
  {
   "cell_type": "code",
   "execution_count": 3,
   "metadata": {},
   "outputs": [
    {
     "data": {
      "text/plain": [
       "'111221'"
      ]
     },
     "execution_count": 3,
     "metadata": {},
     "output_type": "execute_result"
    }
   ],
   "source": [
    "Solution().countAndSay(5)"
   ]
  }
 ],
 "metadata": {
  "kernelspec": {
   "display_name": "Python 3",
   "language": "python",
   "name": "python3"
  },
  "language_info": {
   "codemirror_mode": {
    "name": "ipython",
    "version": 3
   },
   "file_extension": ".py",
   "mimetype": "text/x-python",
   "name": "python",
   "nbconvert_exporter": "python",
   "pygments_lexer": "ipython3",
   "version": "3.5.2"
  }
 },
 "nbformat": 4,
 "nbformat_minor": 4
}

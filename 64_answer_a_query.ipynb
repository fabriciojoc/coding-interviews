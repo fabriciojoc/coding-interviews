{
 "cells": [
  {
   "cell_type": "markdown",
   "metadata": {},
   "source": [
    "# Answer a Query\n",
    "\n",
    "Imagine a length-N array of booleans, initially all false. Over time, some values are set to true, and at various points in time you would like to find the location of the nearest true to the right of given indices.\n",
    "\n",
    "You will receive Q queries, each of which has a type and a value. SET queries have type = 1 and GET queries have type = 2.\n",
    "\n",
    "When you receive a SET query, the value of the query denotes an index in the array that is set to true. Note that these indices start at 1. When you receive a GET query, you must return the smallest index that contains a true value that is greater than or equal to the given index, or -1 if no such index exists.\n",
    "\n",
    "## Signature\n",
    "\n",
    "``int[] answerQueries(ArrayList<Query> queries, int N)``\n",
    "\n",
    "## Input\n",
    "\n",
    "A list of Q queries, formatted as [type, index] where type is either 1 or 2, and index is <= N\n",
    "\n",
    "1 <= N <= 1,000,000,000\n",
    "\n",
    "1 <= Q <= 500,000\n",
    "\n",
    "## Output\n",
    "\n",
    "Return an array containing the results of all GET queries. The result of queries[i] is the smallest index that contains a true value that is greater than or equal to i, or -1 if no index satisfies those conditions.\n",
    "\n",
    "## Example\n",
    "\n",
    "N = 5\n",
    "\n",
    "Q = 5\n",
    "\n",
    "queries = ``[[2, 3], [1, 2], [2, 1], [2, 3], [2, 2]]``\n",
    "\n",
    "output = ``[-1, 2, -1, 2]``\n",
    "\n",
    "The initial state of the array is ``[false, false, false, false, false]``.\n",
    "\n",
    "The first query is GET 3, but no values in the array are true, so the answer is -1.\n",
    "\n",
    "The second query is SET 2, so the value at index 2 is set to true.\n",
    "\n",
    "The new state of the array is ``[false, true, false, false, false]``.\n",
    "\n",
    "The third query is GET 1, and the index of the true value nearest to 1 (to the right) is 2.\n",
    "\n",
    "The fourth query is GET 3, but no values to the right of index 3 are true.\n",
    "\n",
    "The fifth query is GET 2, and the value at index 2 is true."
   ]
  },
  {
   "cell_type": "code",
   "execution_count": 5,
   "metadata": {},
   "outputs": [],
   "source": [
    "def answerQueries(queries, n):\n",
    "  # initialize array\n",
    "  arr = [False]*n\n",
    "  # initialize answer\n",
    "  answer = []\n",
    "  # iterate over queries\n",
    "  for (t, i) in queries:\n",
    "    # check query type\n",
    "    if t == 1: # SET\n",
    "      arr[i-1] = True\n",
    "    elif t == 2: # GET\n",
    "      # initial result is -1\n",
    "      result = -1\n",
    "      # walk in array and find the nearest true to the right\n",
    "      for j in range(i-1, n):\n",
    "        if arr[j]:\n",
    "          result = j+1\n",
    "          break\n",
    "      # add result\n",
    "      answer.append(result)\n",
    "    else: # Unkwnow\n",
    "      pass\n",
    "  return(answer)"
   ]
  },
  {
   "cell_type": "code",
   "execution_count": 6,
   "metadata": {},
   "outputs": [
    {
     "data": {
      "text/plain": [
       "[-1, 2, -1, 2]"
      ]
     },
     "execution_count": 6,
     "metadata": {},
     "output_type": "execute_result"
    }
   ],
   "source": [
    "answerQueries([[2, 3], [1, 2], [2, 1], [2, 3], [2, 2]], 5)"
   ]
  }
 ],
 "metadata": {
  "kernelspec": {
   "display_name": "Python 3",
   "language": "python",
   "name": "python3"
  },
  "language_info": {
   "codemirror_mode": {
    "name": "ipython",
    "version": 3
   },
   "file_extension": ".py",
   "mimetype": "text/x-python",
   "name": "python",
   "nbconvert_exporter": "python",
   "pygments_lexer": "ipython3",
   "version": "3.5.2"
  }
 },
 "nbformat": 4,
 "nbformat_minor": 4
}

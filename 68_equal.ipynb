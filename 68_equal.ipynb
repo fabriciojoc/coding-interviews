{
 "cells": [
  {
   "cell_type": "markdown",
   "metadata": {},
   "source": [
    "# Equal\n",
    "\n",
    "Given an array A of integers, find the index of values that satisfy A + B = C + D, where A,B,C & D are integers values in the array\n",
    "\n",
    "Note:\n",
    "\n",
    "1) Return the indices `A1 B1 C1 D1`, so that \n",
    "\n",
    "  A[A1] + A[B1] = A[C1] + A[D1]\n",
    "  \n",
    "  A1 < B1, C1 < D1\n",
    "  \n",
    "  A1 < C1, B1 != D1, B1 != C1 \n",
    "  \n",
    "2) If there are more than one solutions, then return the tuple of values which are lexicographical smallest.\n",
    "\n",
    "Assume we have two solutions\n",
    "\n",
    "S1 : A1 B1 C1 D1 ( these are values of indices int the array )  \n",
    "\n",
    "S2 : A2 B2 C2 D2\n",
    "\n",
    "S1 is lexicographically smaller than S2 iff\n",
    "\n",
    "  A1 < A2 OR\n",
    "\n",
    "  A1 = A2 AND B1 < B2 OR\n",
    "\n",
    "  A1 = A2 AND B1 = B2 AND C1 < C2 OR \n",
    "\n",
    "  A1 = A2 AND B1 = B2 AND C1 = C2 AND D1 < D2\n",
    "\n",
    "Example:\n",
    "\n",
    "Input: [3, 4, 7, 1, 2, 9, 8]\n",
    "\n",
    "Output: [0, 2, 3, 5] (O index)\n",
    "\n",
    "If no solution is possible, return an empty list."
   ]
  },
  {
   "cell_type": "code",
   "execution_count": 3,
   "metadata": {},
   "outputs": [],
   "source": [
    "class Solution:\n",
    "    # @param A : list of integers\n",
    "    # @return a list of integers\n",
    "    def equal(self, A):\n",
    "        for i in range(len(A)-3):\n",
    "            for j in range(i+1, len(A)-2):\n",
    "                # for k in range(j+1, len(A)-1):\n",
    "                for k in range(len(A)-1):\n",
    "                    for l in range(k+1, len(A)):\n",
    "                        if A[i] + A[j] == A[k] + A[l] and i!=k and j!=k and i!=l and j!=l:\n",
    "                            return [i,j,k,l]\n",
    "        return []"
   ]
  },
  {
   "cell_type": "code",
   "execution_count": 4,
   "metadata": {},
   "outputs": [
    {
     "data": {
      "text/plain": [
       "[0, 2, 3, 5]"
      ]
     },
     "execution_count": 4,
     "metadata": {},
     "output_type": "execute_result"
    }
   ],
   "source": [
    "Solution().equal([3, 4, 7, 1, 2, 9, 8])"
   ]
  }
 ],
 "metadata": {
  "kernelspec": {
   "display_name": "Python 3",
   "language": "python",
   "name": "python3"
  },
  "language_info": {
   "codemirror_mode": {
    "name": "ipython",
    "version": 3
   },
   "file_extension": ".py",
   "mimetype": "text/x-python",
   "name": "python",
   "nbconvert_exporter": "python",
   "pygments_lexer": "ipython3",
   "version": "3.5.2"
  }
 },
 "nbformat": 4,
 "nbformat_minor": 4
}

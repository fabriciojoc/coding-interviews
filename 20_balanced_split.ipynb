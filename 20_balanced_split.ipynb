{
 "cells": [
  {
   "cell_type": "markdown",
   "metadata": {},
   "source": [
    "# Balanced Split\n",
    "\n",
    "Given an array of integers (which may include repeated integers), determine if there's a way to split the array into two subsequences A and B such that the sum of the integers in both arrays is the same, and all of the integers in A are strictly smaller than all of the integers in B.\n",
    "\n",
    "Note: Strictly smaller denotes that every integer in A must be less than, and not equal to, every integer in B.\n",
    "\n",
    "## Signature\n",
    "\n",
    "`bool balancedSplitExists(int[] arr)`\n",
    "\n",
    "## Input\n",
    "\n",
    "All integers in array are in the range [0, 1,000,000,000].\n",
    "\n",
    "## Output\n",
    "\n",
    "Return true if such a split is possible, and false otherwise.\n",
    "\n",
    "## Example 1\n",
    "\n",
    "arr = [1, 5, 7, 1]\n",
    "output = true\n",
    "\n",
    "We can split the array into A = [1, 1, 5] and B = [7].\n",
    "\n",
    "## Example 2\n",
    "\n",
    "arr = [12, 7, 6, 7, 6]\n",
    "output = false\n",
    "\n",
    "We can't split the array into A = [6, 6, 7] and B = [7, 12] since this doesn't satisfy the requirement that all integers in A are smaller than all integers in B."
   ]
  },
  {
   "cell_type": "code",
   "execution_count": 1,
   "metadata": {},
   "outputs": [
    {
     "name": "stdout",
     "output_type": "stream",
     "text": [
      "✓Test #1\n",
      "✓Test #2\n"
     ]
    }
   ],
   "source": [
    "import math\n",
    "# Add any extra import statements you may need here\n",
    "\n",
    "\n",
    "# Add any helper functions you may need here\n",
    "\n",
    "\n",
    "def balancedSplitExists(arr):\n",
    "  # create a copy of arr\n",
    "  arr_copy = arr.copy()\n",
    "  # sort it\n",
    "  arr_copy.sort()\n",
    "  # iterate over array\n",
    "  for i in range(1,len(arr)):\n",
    "    if sum(arr[0:i]) == sum(arr[i:len(arr_copy)]):\n",
    "      return True\n",
    "  return False\n",
    "\n",
    "# These are the tests we use to determine if the solution is correct.\n",
    "# You can add your own at the bottom.\n",
    "\n",
    "def printString(string):\n",
    "  print('[\\\"', string, '\\\"]', sep='', end='')\n",
    "\n",
    "test_case_number = 1\n",
    "\n",
    "def check(expected, output):\n",
    "  global test_case_number\n",
    "  result = False\n",
    "  if expected == output:\n",
    "    result = True\n",
    "  rightTick = '\\u2713'\n",
    "  wrongTick = '\\u2717'\n",
    "  if result:\n",
    "    print(rightTick, 'Test #', test_case_number, sep='')\n",
    "  else:\n",
    "    print(wrongTick, 'Test #', test_case_number, ': Expected ', sep='', end='')\n",
    "    printString(expected)\n",
    "    print(' Your output: ', end='')\n",
    "    printString(output)\n",
    "    print()\n",
    "  test_case_number += 1\n",
    "\n",
    "if __name__ == \"__main__\":\n",
    "  arr_1 = [2, 1, 2, 5]\n",
    "  expected_1 = True\n",
    "  output_1 = balancedSplitExists(arr_1)\n",
    "  check(expected_1, output_1)\n",
    "\n",
    "  arr_2 = [3, 6, 3, 4, 4]\n",
    "  expected_2 = False\n",
    "  output_2 = balancedSplitExists(arr_2)\n",
    "  check(expected_2, output_2)\n",
    "\n",
    "  # Add your own test cases here"
   ]
  }
 ],
 "metadata": {
  "kernelspec": {
   "display_name": "Python 3",
   "language": "python",
   "name": "python3"
  },
  "language_info": {
   "codemirror_mode": {
    "name": "ipython",
    "version": 3
   },
   "file_extension": ".py",
   "mimetype": "text/x-python",
   "name": "python",
   "nbconvert_exporter": "python",
   "pygments_lexer": "ipython3",
   "version": "3.5.2"
  }
 },
 "nbformat": 4,
 "nbformat_minor": 4
}

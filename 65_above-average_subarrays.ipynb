{
 "cells": [
  {
   "cell_type": "markdown",
   "metadata": {},
   "source": [
    "# Above-Average Subarrays\n",
    "\n",
    "You are given an array A containing N integers. Your task is to find all subarrays whose average sum is greater than the average sum of the remaining array elements. You must return the start and end index of each subarray in sorted order.\n",
    "\n",
    "A subarray that starts at position L1 and ends at position R1 comes before a subarray that starts at L2 and ends at R2 if L1 < L2, or if L1 = L2 and R1 ≤ R2.\n",
    "\n",
    "Note that we'll define the average sum of an empty array to be 0, and we'll define the indicies of the array (for the purpose of output) to be 1 through N. A subarray that contains a single element will have L1 = R1.\n",
    "\n",
    "## Signature\n",
    "\n",
    "``Subarray[] aboveAverageSubarrays(int[] A)``\n",
    "\n",
    "## Input\n",
    "\n",
    "1 ≤ N ≤ 2,000\n",
    "\n",
    "1 ≤ A[i] ≤ 1,000,000\n",
    "\n",
    "## Output\n",
    "\n",
    "A Subarray is an object with two integer fields, left and right, defining the range that a given subarray covers. Return a list of all above-average subarrays sorted as explained above.\n",
    "\n",
    "Example 1\n",
    "\n",
    "A = ``[3, 4, 2]``\n",
    "\n",
    "output = ``[[1, 2], [1, 3], [2, 2]]``\n",
    "\n",
    "The above-average subarrays are [3, 4], [3, 4, 2], and [4].\n",
    "\n"
   ]
  },
  {
   "cell_type": "code",
   "execution_count": 3,
   "metadata": {},
   "outputs": [],
   "source": [
    "def aboveAverageSubarrays(A):\n",
    "    result = []\n",
    "    for i in range(len(A)-1):\n",
    "        for j in range(i,len(A)):\n",
    "            # get subarray\n",
    "            sub = A[i:j+1]\n",
    "            # get avg of sub\n",
    "            sub_avg = sum(sub)/len(sub)\n",
    "            # check its size\n",
    "            if len(sub) == len(A):\n",
    "                remaining_avg = 0\n",
    "            else:\n",
    "                # create copy of A\n",
    "                A_copy = A.copy()\n",
    "                # delete sub from A_copy\n",
    "                del A_copy[i:j+1]\n",
    "                # calc avg\n",
    "                remaining_avg = sum(A_copy)/len(A_copy)\n",
    "            if sub_avg > remaining_avg:\n",
    "                result.append([i+1,j+1])\n",
    "    return result"
   ]
  },
  {
   "cell_type": "code",
   "execution_count": 4,
   "metadata": {},
   "outputs": [
    {
     "data": {
      "text/plain": [
       "[[1, 2], [1, 3], [2, 2]]"
      ]
     },
     "execution_count": 4,
     "metadata": {},
     "output_type": "execute_result"
    }
   ],
   "source": [
    "aboveAverageSubarrays([3, 4, 2])"
   ]
  }
 ],
 "metadata": {
  "kernelspec": {
   "display_name": "Python 3",
   "language": "python",
   "name": "python3"
  },
  "language_info": {
   "codemirror_mode": {
    "name": "ipython",
    "version": 3
   },
   "file_extension": ".py",
   "mimetype": "text/x-python",
   "name": "python",
   "nbconvert_exporter": "python",
   "pygments_lexer": "ipython3",
   "version": "3.5.2"
  }
 },
 "nbformat": 4,
 "nbformat_minor": 4
}

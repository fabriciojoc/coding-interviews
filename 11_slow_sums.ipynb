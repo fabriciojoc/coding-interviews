{
 "cells": [
  {
   "cell_type": "markdown",
   "metadata": {},
   "source": [
    "# Slow Sums\n",
    "\n",
    "Suppose we have a list of N numbers, and repeat the following operation until we're left with only a single number: Choose any two numbers and replace them with their sum. Moreover, we associate a penalty with each operation equal to the value of the new number, and call the penalty for the entire list as the sum of the penalties of each operation.\n",
    "\n",
    "For example, given the list [1, 2, 3, 4, 5], we could choose 2 and 3 for the first operation, which would transform the list into [1, 5, 4, 5] and incur a penalty of 5. The goal in this problem is to find the highest possible penalty for a given input.\n",
    "\n",
    "## Signature:\n",
    "`int getTotalTime(int[] arr)`\n",
    "\n",
    "## Input:\n",
    "An array arr containing N integers, denoting the numbers in the list.\n",
    "\n",
    "## Output format:\n",
    "An int representing the highest possible total penalty.\n",
    "\n",
    "## Constraints:\n",
    "1 ≤ N ≤ 10^6\n",
    "1 ≤ Ai ≤ 10^7, where *Ai denotes the ith initial element of an array.\n",
    "The sum of values of N over all test cases will not exceed 5 * 10^6.\n",
    "\n",
    "## Example\n",
    "arr = [4, 2, 1, 3]\n",
    "output = 26\n",
    "\n",
    "First, add 4 + 3 for a penalty of 7. Now the array is [7, 2, 1]\n",
    "Add 7 + 2 for a penalty of 9. Now the array is [9, 1]\n",
    "Add 9 + 1 for a penalty of 10. The penalties sum to 26."
   ]
  },
  {
   "cell_type": "code",
   "execution_count": 1,
   "metadata": {},
   "outputs": [
    {
     "name": "stdout",
     "output_type": "stream",
     "text": [
      "✓Test #1\n",
      "✓Test #2\n"
     ]
    }
   ],
   "source": [
    "import math\n",
    "import random\n",
    "# Add any extra import statements you may need here\n",
    "\n",
    "\n",
    "# Add any helper functions you may need here\n",
    "\n",
    "\n",
    "def getTotalTime(arr):\n",
    "  # len = 1, return arr[0]\n",
    "  if len(arr) == 1:\n",
    "    return arr[0]\n",
    "  slow_sum = 0\n",
    "  # copy arr\n",
    "  arr_copy = arr.copy()\n",
    "  while len(arr_copy) != 1:\n",
    "    # sort array, biggest goes first\n",
    "    arr_copy.sort(reverse=True)\n",
    "    # get first 2 items of array and sum\n",
    "    s = arr_copy.pop(0)\n",
    "    s += arr_copy.pop(0)\n",
    "    # add s to slow sum\n",
    "    slow_sum += s\n",
    "    # add s to array\n",
    "    arr_copy.append(s)\n",
    "  return slow_sum\n",
    "\n",
    "# These are the tests we use to determine if the solution is correct.\n",
    "# You can add your own at the bottom.\n",
    "\n",
    "def printInteger(n):\n",
    "  print('[', n, ']', sep='', end='')\n",
    "\n",
    "test_case_number = 1\n",
    "\n",
    "def check(expected, output):\n",
    "  global test_case_number\n",
    "  result = False\n",
    "  if expected == output:\n",
    "    result = True\n",
    "  rightTick = '\\u2713'\n",
    "  wrongTick = '\\u2717'\n",
    "  if result:\n",
    "    print(rightTick, 'Test #', test_case_number, sep='')\n",
    "  else:\n",
    "    print(wrongTick, 'Test #', test_case_number, ': Expected ', sep='', end='')\n",
    "    printInteger(expected)\n",
    "    print(' Your output: ', end='')\n",
    "    printInteger(output)\n",
    "    print()\n",
    "  test_case_number += 1\n",
    "\n",
    "if __name__ == \"__main__\":\n",
    "  arr_1 = [4, 2, 1, 3]\n",
    "  expected_1 = 26\n",
    "  output_1 = getTotalTime(arr_1)\n",
    "  check(expected_1, output_1)\n",
    "\n",
    "  arr_2 = [2, 3, 9, 8, 4]\n",
    "  expected_2 = 88\n",
    "  output_2 = getTotalTime(arr_2)\n",
    "  check(expected_2, output_2)\n",
    "\n",
    "  # Add your own test cases here"
   ]
  }
 ],
 "metadata": {
  "kernelspec": {
   "display_name": "Python 3",
   "language": "python",
   "name": "python3"
  },
  "language_info": {
   "codemirror_mode": {
    "name": "ipython",
    "version": 3
   },
   "file_extension": ".py",
   "mimetype": "text/x-python",
   "name": "python",
   "nbconvert_exporter": "python",
   "pygments_lexer": "ipython3",
   "version": "3.5.2"
  }
 },
 "nbformat": 4,
 "nbformat_minor": 4
}

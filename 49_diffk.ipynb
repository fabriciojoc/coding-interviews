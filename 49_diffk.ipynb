{
 "cells": [
  {
   "cell_type": "markdown",
   "metadata": {},
   "source": [
    "# Diffk\n",
    "\n",
    "Given an array ‘A’ of sorted integers and another non negative integer k, find if there exists 2 indices i and j such that A[i] - A[j] = k, i != j.\n",
    "\n",
    "Example:\n",
    "\n",
    "Input :\n",
    "\n",
    "    A : [1 3 5] \n",
    "    k : 4\n",
    "Output : YES\n",
    "\n",
    "as 5 - 1 = 4\n",
    "\n",
    "Return 0 / 1 ( 0 for false, 1 for true ) for this problem\n",
    "\n",
    "Try doing this in less than linear space complexity.\n",
    "\n"
   ]
  },
  {
   "cell_type": "code",
   "execution_count": 2,
   "metadata": {},
   "outputs": [],
   "source": [
    "class Solution:\n",
    "    # @param A : list of integers\n",
    "    # @param B : integer\n",
    "    # @return an integer\n",
    "    def diffPossible(self, A, B):\n",
    "        n = len(A)\n",
    "        if n == 0:\n",
    "            return 0\n",
    "        i = 0\n",
    "        j = 1\n",
    "        while i < n and j < n:\n",
    "            if i != j and A[j] - A[i] == B:\n",
    "                return 1\n",
    "            elif A[j] - A[i] < B:\n",
    "                j += 1\n",
    "            else:\n",
    "                i += 1\n",
    "        return 0\n",
    "        # if len(A) <= 1:\n",
    "        #     return 0\n",
    "        # for i in range(len(A)):\n",
    "        #     for j in range(i+1, len(A)):\n",
    "        #         if abs(A[i] - A[j]) == B:\n",
    "        #             return 1\n",
    "        #         elif abs(A[i] - A[j]) > B:\n",
    "        #             break\n",
    "        # return 0"
   ]
  }
 ],
 "metadata": {
  "kernelspec": {
   "display_name": "Python 3",
   "language": "python",
   "name": "python3"
  },
  "language_info": {
   "codemirror_mode": {
    "name": "ipython",
    "version": 3
   },
   "file_extension": ".py",
   "mimetype": "text/x-python",
   "name": "python",
   "nbconvert_exporter": "python",
   "pygments_lexer": "ipython3",
   "version": "3.5.2"
  }
 },
 "nbformat": 4,
 "nbformat_minor": 4
}

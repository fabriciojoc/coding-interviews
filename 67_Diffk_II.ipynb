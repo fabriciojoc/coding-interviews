{
 "cells": [
  {
   "cell_type": "markdown",
   "metadata": {},
   "source": [
    "# Diffk II\n",
    "\n",
    "Given an array A of integers and another non negative integer k, find if there exists 2 indices i and j such that A[i] - A[j] = k, i != j.\n",
    "\n",
    "Example :\n",
    "\n",
    "Input :\n",
    "\n",
    "A : [1 5 3]\n",
    "\n",
    "k : 2\n",
    "\n",
    "Output :\n",
    "\n",
    "1\n",
    "\n",
    "as 3 - 1 = 2\n",
    "\n",
    "- Return 0 / 1 for this problem."
   ]
  },
  {
   "cell_type": "code",
   "execution_count": 1,
   "metadata": {},
   "outputs": [],
   "source": [
    "class Solution:\n",
    "    # @param A : tuple of integers\n",
    "    # @param B : integer\n",
    "    # @return an integer\n",
    "    def diffPossible(self, A, B):\n",
    "        diff = {}\n",
    "        for i in range(len(A)-1):\n",
    "            for j in range(i+1, len(A)):\n",
    "                if abs(A[i] - A[j]) == B:\n",
    "                    return 1\n",
    "        return 0"
   ]
  },
  {
   "cell_type": "code",
   "execution_count": 2,
   "metadata": {},
   "outputs": [
    {
     "data": {
      "text/plain": [
       "1"
      ]
     },
     "execution_count": 2,
     "metadata": {},
     "output_type": "execute_result"
    }
   ],
   "source": [
    "Solution().diffPossible([1,5,3], 2)"
   ]
  },
  {
   "cell_type": "code",
   "execution_count": 5,
   "metadata": {},
   "outputs": [],
   "source": [
    "class Solution:\n",
    "    # @param A : tuple of integers\n",
    "    # @param B : integer\n",
    "    # @return an integer\n",
    "    def diffPossible(self, A, B):\n",
    "        s = set()\n",
    "        for a in A:\n",
    "            if a-B in s or a+B in s:\n",
    "                return 1 \n",
    "            s.add(a)\n",
    "        \n",
    "        return 0"
   ]
  },
  {
   "cell_type": "code",
   "execution_count": 6,
   "metadata": {},
   "outputs": [
    {
     "data": {
      "text/plain": [
       "1"
      ]
     },
     "execution_count": 6,
     "metadata": {},
     "output_type": "execute_result"
    }
   ],
   "source": [
    "Solution().diffPossible([1,5,3], 2)"
   ]
  },
  {
   "cell_type": "code",
   "execution_count": null,
   "metadata": {},
   "outputs": [],
   "source": []
  }
 ],
 "metadata": {
  "kernelspec": {
   "display_name": "Python 3",
   "language": "python",
   "name": "python3"
  },
  "language_info": {
   "codemirror_mode": {
    "name": "ipython",
    "version": 3
   },
   "file_extension": ".py",
   "mimetype": "text/x-python",
   "name": "python",
   "nbconvert_exporter": "python",
   "pygments_lexer": "ipython3",
   "version": "3.5.2"
  }
 },
 "nbformat": 4,
 "nbformat_minor": 4
}

{
 "cells": [
  {
   "cell_type": "markdown",
   "metadata": {},
   "source": [
    "# Implement StrStr\n",
    "\n",
    "Another question which belongs to the category of questions which are intentionally stated vaguely. \n",
    "\n",
    "Expectation is that you will ask for correct clarification or you will state your assumptions before you start coding.\n",
    "\n",
    "Problem Description\n",
    " \n",
    " \n",
    "\n",
    "Another question which belongs to the category of questions which are intentionally stated vaguely.\n",
    "\n",
    "Expectation is that you will ask for correct clarification or you will state your assumptions before you start coding.\n",
    "\n",
    "Implement strStr().\n",
    "\n",
    "strstr - locate a substring ( needle ) in a string ( haystack ).\n",
    "\n",
    "Try not to use standard library string functions for this question.\n",
    "\n",
    "Returns the index of the first occurrence of needle in haystack, or -1 if needle is not part of haystack.\n",
    "\n",
    "NOTE: String A is haystack, B is needle.\n",
    "\n",
    "Good clarification questions:\n",
    "\n",
    "What should be the return value if the needle is empty?\n",
    "What if both haystack and needle are empty?\n",
    "For the purpose of this problem, assume that the return value should be -1 in both cases.\n"
   ]
  },
  {
   "cell_type": "code",
   "execution_count": 2,
   "metadata": {},
   "outputs": [
    {
     "data": {
      "text/plain": [
       "2"
      ]
     },
     "execution_count": 2,
     "metadata": {},
     "output_type": "execute_result"
    }
   ],
   "source": [
    "class Solution:\n",
    "    # @param A : string\n",
    "    # @param B : string\n",
    "    # @return an integer\n",
    "    # 0 1 2 3 4 5   6 - 4 = 2\n",
    "    # s t r i n g\n",
    "    #     r i n g\n",
    "\n",
    "    def strStr(self, A, B):\n",
    "        for i in range(len(A) - len(B) + 1):\n",
    "            count = 0\n",
    "            for j in range(len(B)):\n",
    "                if A[i+j] == B[j]:\n",
    "                    count += 1\n",
    "            if count == len(B):\n",
    "                return i\n",
    "        return -1\n",
    "Solution().strStr('string', 'ring')"
   ]
  }
 ],
 "metadata": {
  "kernelspec": {
   "display_name": "Python 3",
   "language": "python",
   "name": "python3"
  },
  "language_info": {
   "codemirror_mode": {
    "name": "ipython",
    "version": 3
   },
   "file_extension": ".py",
   "mimetype": "text/x-python",
   "name": "python",
   "nbconvert_exporter": "python",
   "pygments_lexer": "ipython3",
   "version": "3.5.2"
  }
 },
 "nbformat": 4,
 "nbformat_minor": 4
}

{
 "cells": [
  {
   "cell_type": "markdown",
   "metadata": {},
   "source": [
    "# Min Depth of Binary Tree\n",
    "\n",
    "Given a binary tree, find its minimum depth.\n",
    "\n",
    "The minimum depth is the number of nodes along the shortest path from the root node down to the nearest leaf node.\n",
    "\n",
    "**NOTE:** The path has to end on a leaf node.\n",
    "\n",
    "Example :\n",
    "\n",
    "```\n",
    "     1  \n",
    "    /   \n",
    "   2    \n",
    "```\n",
    "\n",
    "min depth = 2"
   ]
  },
  {
   "cell_type": "code",
   "execution_count": 5,
   "metadata": {},
   "outputs": [],
   "source": [
    "# Definition for a  binary tree node\n",
    "class TreeNode:\n",
    "    def __init__(self, x):\n",
    "        self.val = x\n",
    "        self.left = None\n",
    "        self.right = None\n",
    "\n",
    "class Solution:\n",
    "\n",
    "    # @param A : root node of tree\n",
    "    # @return an integer\n",
    "    def minDepth(self, A):\n",
    "        if not A:\n",
    "            return 0\n",
    "        # check for tree left and right to ignore null pointers\n",
    "        if A.left and A.right:\n",
    "            return min(1 + self.minDepth(A.left), 1 + self.minDepth(A.right))\n",
    "        elif A.left:\n",
    "            return 1 + self.minDepth(A.left)\n",
    "        elif A.right:\n",
    "            return 1 + self.minDepth(A.right)\n",
    "        else:\n",
    "            return 1"
   ]
  },
  {
   "cell_type": "code",
   "execution_count": 6,
   "metadata": {},
   "outputs": [
    {
     "data": {
      "text/plain": [
       "3"
      ]
     },
     "execution_count": 6,
     "metadata": {},
     "output_type": "execute_result"
    }
   ],
   "source": [
    "t = TreeNode(1)\n",
    "t.left = TreeNode(2)\n",
    "t.left.right = TreeNode(3)\n",
    "s = Solution()\n",
    "s.minDepth(t)\n"
   ]
  }
 ],
 "metadata": {
  "kernelspec": {
   "display_name": "Python 3",
   "language": "python",
   "name": "python3"
  },
  "language_info": {
   "codemirror_mode": {
    "name": "ipython",
    "version": 3
   },
   "file_extension": ".py",
   "mimetype": "text/x-python",
   "name": "python",
   "nbconvert_exporter": "python",
   "pygments_lexer": "ipython3",
   "version": "3.5.2"
  }
 },
 "nbformat": 4,
 "nbformat_minor": 4
}

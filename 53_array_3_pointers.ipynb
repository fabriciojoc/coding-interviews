{
 "cells": [
  {
   "cell_type": "markdown",
   "metadata": {},
   "source": [
    "# Array 3 Pointers\n",
    "\n",
    "Description\n",
    "You are given 3 arrays A, B and C. All 3 of the arrays are sorted.\n",
    "\n",
    "Find i, j, k such that : max(abs(A[i] - B[j]), abs(B[j] - C[k]), abs(C[k] - A[i])) is minimized. Return the minimum max(abs(A[i] - B[j]), abs(B[j] - C[k]), abs(C[k] - A[i]))\n",
    "\n",
    "abs(x) is absolute value of x and is implemented in the following manner:\n",
    "\n",
    "if (x < 0) return -x;\n",
    "else return x;\n",
    "Example:\n",
    "\n",
    "Input:\n",
    "        A : [1, 4, 10]\n",
    "        B : [2, 15, 20]\n",
    "        C : [10, 12]\n",
    "\n",
    "Output: 5\n",
    "        With 10 from A, 15 from B and 10 from C.\n",
    "        \n",
    "Test cases\n",
    "\n",
    "case 1\n",
    "{\n",
    "  \"input\": {\n",
    "    \"A\": [ 1, 4, 10 ],\n",
    "    \"B\": [ 2, 15, 20 ],\n",
    "    \"C\": [ 10, 12 ]\n",
    "  },\n",
    "  \"output\": 5\n",
    "}\n",
    "\n",
    "case 2\n",
    "\n",
    "{\n",
    "  \"input\": {\n",
    "    \"A\": [ 20, 24, 100 ],\n",
    "    \"B\": [ 2, 19, 22, 79, 800 ],\n",
    "    \"C\": [ 10, 12, 23, 24, 119 ]\n",
    "  },\n",
    "  \"output\": 1\n",
    "}"
   ]
  },
  {
   "cell_type": "code",
   "execution_count": 1,
   "metadata": {},
   "outputs": [],
   "source": [
    "class Solution:\n",
    "    # @param A : tuple of integers\n",
    "    # @param B : tuple of integers\n",
    "    # @param C : tuple of integers\n",
    "    # @return an integer\n",
    "    def minimize(self, A, B, C):\n",
    "        pA = 0\n",
    "        pB = 0\n",
    "        pC = 0\n",
    "        minmax = float(\"inf\")\n",
    "        while pA < len(A) and pB < len(B) and pC < len(C):\n",
    "            minmax = min(minmax, max(abs(A[pA] - B[pB]), abs(B[pB] - C[pC]), abs(C[pC] - A[pA])))\n",
    "            if A[pA] == min(A[pA], B[pB], C[pC]):\n",
    "                pA += 1\n",
    "            elif B[pB] == min(A[pA], B[pB], C[pC]):\n",
    "                pB += 1\n",
    "            else:\n",
    "                pC += 1\n",
    "        \n",
    "        return minmax"
   ]
  },
  {
   "cell_type": "code",
   "execution_count": 2,
   "metadata": {},
   "outputs": [
    {
     "data": {
      "text/plain": [
       "5"
      ]
     },
     "execution_count": 2,
     "metadata": {},
     "output_type": "execute_result"
    }
   ],
   "source": [
    "Solution().minimize([ 1, 4, 10 ], [ 2, 15, 20 ], [ 10, 12 ])"
   ]
  }
 ],
 "metadata": {
  "kernelspec": {
   "display_name": "Python 3",
   "language": "python",
   "name": "python3"
  },
  "language_info": {
   "codemirror_mode": {
    "name": "ipython",
    "version": 3
   },
   "file_extension": ".py",
   "mimetype": "text/x-python",
   "name": "python",
   "nbconvert_exporter": "python",
   "pygments_lexer": "ipython3",
   "version": "3.5.2"
  }
 },
 "nbformat": 4,
 "nbformat_minor": 4
}

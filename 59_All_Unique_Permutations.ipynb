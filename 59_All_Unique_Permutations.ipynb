{
 "cells": [
  {
   "cell_type": "markdown",
   "metadata": {},
   "source": [
    "# All Unique Permutations\n",
    "\n",
    "Problem Description\n",
    "\n",
    "Given an array A of size N denoting collection of numbers that might contain duplicates, return all possible unique permutations.\n",
    "\n",
    "NOTE: No 2 entries in the permutation sequence should be the same.\n",
    "\n",
    "\n",
    "\n",
    "Input Format\n",
    "Only argument is an integer array A of size N.\n",
    "\n",
    "\n",
    "Output Format\n",
    "Return a 2-D array denoting all possible unique permutation of the array.\n",
    "\n",
    "\n",
    "Example Input\n",
    "\n",
    "Input 1: \n",
    "\n",
    "A = [1, 1, 2]\n",
    "\n",
    "Input 2: \n",
    "\n",
    "A = [1, 2]\n",
    "\n",
    "\n",
    "Example Output\n",
    "\n",
    "Output 1: \n",
    "\n",
    "[ [1, 1, 2]\n",
    "  [1, 2, 1]\n",
    "  [2, 1, 1] ]\n",
    "  \n",
    "Output 2: \n",
    "\n",
    "[ [1, 2]\n",
    "  [2, 1] ]\n",
    "\n",
    "\n",
    "Example Explanation\n",
    "\n",
    "Explanation 1: \n",
    "\n",
    "All the possible unique permutation of array [1, 1, 2].\n",
    "\n",
    "Explanation 2: \n",
    "\n",
    "All the possible unique permutation of array [1, 2].\n"
   ]
  },
  {
   "cell_type": "code",
   "execution_count": 5,
   "metadata": {},
   "outputs": [],
   "source": [
    "class Solution:\n",
    "    # @param A : list of integers\n",
    "    # @return a list of list of integers\n",
    "    permutations = []\n",
    "    def permute(self, A):\n",
    "        A_copy = A.copy()\n",
    "        if A not in self.permutations:\n",
    "            self.permutations.append(A)\n",
    "        for i in range(len(A)):\n",
    "            for j in range(len(A)):\n",
    "                A_copy[i], A_copy[j] = A_copy[j], A_copy[i]\n",
    "                if A_copy not in self.permutations:\n",
    "                    self.permute(A_copy)\n",
    "                    # permutations.append(A_copy)\n",
    "                A_copy = A.copy()\n",
    "        return self.permutations"
   ]
  },
  {
   "cell_type": "code",
   "execution_count": 6,
   "metadata": {},
   "outputs": [
    {
     "data": {
      "text/plain": [
       "[[1, 2], [2, 1]]"
      ]
     },
     "execution_count": 6,
     "metadata": {},
     "output_type": "execute_result"
    }
   ],
   "source": [
    "Solution().permute([1, 2])"
   ]
  },
  {
   "cell_type": "code",
   "execution_count": 7,
   "metadata": {},
   "outputs": [],
   "source": [
    "class Solution:\n",
    "    # @param A : list of integers\n",
    "    # @return a list of list of integers\n",
    "    def permute(self, A):\n",
    "        from itertools import permutations\n",
    "        return list(set(permutations(A)))"
   ]
  },
  {
   "cell_type": "code",
   "execution_count": 9,
   "metadata": {},
   "outputs": [],
   "source": [
    "class Solution:\n",
    "    # @param A : list of integers\n",
    "    # @return a list of list of integers\n",
    "    def generate_permutations(self, permutations, A):\n",
    "        A_copy = A.copy()\n",
    "        if A not in permutations:\n",
    "            permutations.append(A)\n",
    "        for i in range(len(A)):\n",
    "            for j in range(len(A)):\n",
    "                A_copy[i], A_copy[j] = A_copy[j], A_copy[i]\n",
    "                if A_copy not in permutations:\n",
    "                    self.generate_permutations(permutations, A_copy)\n",
    "                    # permutations.append(A_copy)\n",
    "                A_copy = A.copy()\n",
    "        return permutations\n",
    "    \n",
    "    def permute(self, A):\n",
    "        permutations = []\n",
    "        return self.generate_permutations(permutations, A)\n",
    "        "
   ]
  },
  {
   "cell_type": "code",
   "execution_count": null,
   "metadata": {},
   "outputs": [],
   "source": []
  }
 ],
 "metadata": {
  "kernelspec": {
   "display_name": "Python 3",
   "language": "python",
   "name": "python3"
  },
  "language_info": {
   "codemirror_mode": {
    "name": "ipython",
    "version": 3
   },
   "file_extension": ".py",
   "mimetype": "text/x-python",
   "name": "python",
   "nbconvert_exporter": "python",
   "pygments_lexer": "ipython3",
   "version": "3.5.2"
  }
 },
 "nbformat": 4,
 "nbformat_minor": 4
}

{
 "cells": [
  {
   "cell_type": "markdown",
   "metadata": {},
   "source": [
    "# Integer To Roman\n",
    "\n",
    "Another question which belongs to the category of questions which are intentionally stated vaguely. \n",
    "\n",
    "Expectation is that you will ask for correct clarification or you will state your assumptions before you start coding.\n",
    "\n",
    "Given an integer A, convert it to a roman numeral, and return a string corresponding to its roman numeral version\n",
    "\n",
    "Note : This question has a lot of scope of clarification from the interviewer. Please take a moment to think of all the needed clarifications and see the expected response using “See Expected Output”\n",
    "\n",
    "For the purpose of this question, https://projecteuler.net/about=roman_numerals has very detailed explanations.\n",
    "\n",
    "\n",
    "\n",
    "\n",
    "Input Format\n",
    "\n",
    "The only argument given is integer A.\n",
    "Output Format\n",
    "\n",
    "Return a string denoting roman numeral version of A.\n",
    "Constraints\n",
    "\n",
    "1 <= A <= 3999\n",
    "For Example\n",
    "\n",
    "Input 1:\n",
    "    A = 5\n",
    "Output 1:\n",
    "    \"V\"\n",
    "\n",
    "Input 2:\n",
    "    A = 14\n",
    "Output 2:\n",
    "    \"XIV\"\n"
   ]
  },
  {
   "cell_type": "code",
   "execution_count": 16,
   "metadata": {},
   "outputs": [],
   "source": [
    "class Solution:\n",
    "    # @param A : integer\n",
    "    # @return a strings\n",
    "    def intToRoman(self, A):\n",
    "        string = ''\n",
    "        num = A\n",
    "        while num > 0:\n",
    "            if num >= 1000:\n",
    "                string += 'M'\n",
    "                num -= 1000\n",
    "            elif num >= 900:\n",
    "                string += 'CM'\n",
    "                num -= 900\n",
    "            elif num >= 500:\n",
    "                string += 'D'\n",
    "                num -= 500\n",
    "            elif num >= 400:\n",
    "                string += 'CD'\n",
    "                num -= 400\n",
    "            elif num >= 100:\n",
    "                # print(\"CCC\")\n",
    "                string += 'C'\n",
    "                num -= 100\n",
    "            elif num >= 90:\n",
    "                string += 'XC'\n",
    "                num -= 90\n",
    "            elif num >= 50:\n",
    "                string += 'L'\n",
    "                num -= 50\n",
    "            elif num >= 40:\n",
    "                string += 'XL'\n",
    "                num -= 40\n",
    "            elif num >= 10:\n",
    "                string += 'X'\n",
    "                num -= 10\n",
    "            # elif num >= 5:\n",
    "            #     string += 'V'\n",
    "            #     num -= 5\n",
    "            elif num >= 1:\n",
    "                if num == 9:\n",
    "                    string += 'IX'\n",
    "                elif num == 8:\n",
    "                    string += 'VIII'\n",
    "                elif num == 7:\n",
    "                    string += 'VII'\n",
    "                elif num == 6:\n",
    "                    string += 'VI'\n",
    "                elif num == 5:\n",
    "                    string += 'V'\n",
    "                elif num == 4:\n",
    "                    string += 'IV'\n",
    "                elif num == 3:\n",
    "                    string += \"III\"\n",
    "                elif num == 2:\n",
    "                    string += 'II'\n",
    "                elif num == 1:\n",
    "                    string += 'I'\n",
    "                #string += 'I'\n",
    "                num = 0\n",
    "        return(string)"
   ]
  },
  {
   "cell_type": "code",
   "execution_count": 18,
   "metadata": {},
   "outputs": [
    {
     "data": {
      "text/plain": [
       "'XIV'"
      ]
     },
     "execution_count": 18,
     "metadata": {},
     "output_type": "execute_result"
    }
   ],
   "source": [
    "Solution().intToRoman(14)"
   ]
  }
 ],
 "metadata": {
  "kernelspec": {
   "display_name": "Python 3",
   "language": "python",
   "name": "python3"
  },
  "language_info": {
   "codemirror_mode": {
    "name": "ipython",
    "version": 3
   },
   "file_extension": ".py",
   "mimetype": "text/x-python",
   "name": "python",
   "nbconvert_exporter": "python",
   "pygments_lexer": "ipython3",
   "version": "3.5.2"
  }
 },
 "nbformat": 4,
 "nbformat_minor": 4
}

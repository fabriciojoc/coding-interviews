{
 "cells": [
  {
   "cell_type": "markdown",
   "metadata": {},
   "source": [
    "# Square Root of Integer\n",
    "\n",
    "Given an integer A.\n",
    "\n",
    "Compute and return the square root of A.\n",
    "\n",
    "If A is not a perfect square, return floor(sqrt(A)).\n",
    "\n",
    "DO NOT USE SQRT FUNCTION FROM STANDARD LIBRARY.\n",
    "\n",
    "NOTE: Do not use sort function from standard library. Users are expected to solve this in O(log(A)) time.\n",
    "\n",
    "\n",
    "\n",
    "Input Format\n",
    "The first and only argument given is the integer A.\n",
    "\n",
    "\n",
    "\n",
    "Output Format\n",
    "Return floor(sqrt(A))\n",
    "\n",
    "\n",
    "\n",
    "Example Input\n",
    "Input 1:\n",
    "\n",
    " 11\n",
    "Input 2:\n",
    "\n",
    " 9\n",
    "\n",
    "\n",
    "Example Output\n",
    "Output 1:\n",
    "\n",
    " 3\n",
    "Output 2:\n",
    "\n",
    " 3\n",
    "\n",
    "\n",
    "Example Explanation\n",
    "Explanation:\n",
    "\n",
    " When A = 11 , square root of A = 3.316. It is not a perfect square so we return the floor which is 3.\n",
    " When A = 9 which is a perfect square of 3, so we return 3.\n"
   ]
  },
  {
   "cell_type": "code",
   "execution_count": 1,
   "metadata": {},
   "outputs": [
    {
     "data": {
      "text/plain": [
       "3"
      ]
     },
     "execution_count": 1,
     "metadata": {},
     "output_type": "execute_result"
    }
   ],
   "source": [
    "# @param A : integer\n",
    "# @return an integer\n",
    "def sqrt(A):\n",
    "    beg = 0\n",
    "    end = A\n",
    "    while beg <= end:\n",
    "        mid = (beg + end) // 2\n",
    "        if mid*mid <= A:\n",
    "            beg = mid + 1 \n",
    "        else:\n",
    "            end = mid -1\n",
    "    return end\n",
    "sqrt(9)"
   ]
  }
 ],
 "metadata": {
  "kernelspec": {
   "display_name": "Python 3",
   "language": "python",
   "name": "python3"
  },
  "language_info": {
   "codemirror_mode": {
    "name": "ipython",
    "version": 3
   },
   "file_extension": ".py",
   "mimetype": "text/x-python",
   "name": "python",
   "nbconvert_exporter": "python",
   "pygments_lexer": "ipython3",
   "version": "3.5.2"
  }
 },
 "nbformat": 4,
 "nbformat_minor": 4
}

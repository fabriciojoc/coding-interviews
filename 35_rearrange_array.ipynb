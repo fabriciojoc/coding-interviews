{
 "cells": [
  {
   "cell_type": "markdown",
   "metadata": {},
   "source": [
    "# Rearrange Array\n",
    "\n",
    "Rearrange a given array so that Arr[i] becomes Arr[Arr[i]] with O(1) extra space.\n",
    "\n",
    "Example:\n",
    "\n",
    "Input : [1, 0]\n",
    "Return : [0, 1]\n",
    "Lets say N = size of the array. Then, following holds true :\n",
    "\n",
    "All elements in the array are in the range [0, N-1]\n",
    "N * N does not overflow for a signed integer\n"
   ]
  },
  {
   "cell_type": "code",
   "execution_count": 5,
   "metadata": {},
   "outputs": [
    {
     "name": "stdout",
     "output_type": "stream",
     "text": [
      "[0, 1]\n"
     ]
    }
   ],
   "source": [
    "# not with O(1) extra space\n",
    "def arrange(A):\n",
    "    A_copy = [i for i in A]\n",
    "    for i in range(len(A)):\n",
    "        A[i] = A_copy[A_copy[i]]\n",
    "A = [1,0]\n",
    "arrange(A)\n",
    "print(A)"
   ]
  },
  {
   "cell_type": "code",
   "execution_count": 6,
   "metadata": {},
   "outputs": [
    {
     "name": "stdout",
     "output_type": "stream",
     "text": [
      "[0, 1]\n"
     ]
    }
   ],
   "source": [
    "def arrange(A):\n",
    "    n=len(A)\n",
    "    for i in range(n):\n",
    "        A[i]=n*(A[A[i]]%n)+A[i]\n",
    "    for i in range(n):\n",
    "        A[i]=A[i]//n\n",
    "arrange(A)\n",
    "print(A)"
   ]
  },
  {
   "cell_type": "code",
   "execution_count": null,
   "metadata": {},
   "outputs": [],
   "source": []
  }
 ],
 "metadata": {
  "kernelspec": {
   "display_name": "Python 3",
   "language": "python",
   "name": "python3"
  },
  "language_info": {
   "codemirror_mode": {
    "name": "ipython",
    "version": 3
   },
   "file_extension": ".py",
   "mimetype": "text/x-python",
   "name": "python",
   "nbconvert_exporter": "python",
   "pygments_lexer": "ipython3",
   "version": "3.5.2"
  }
 },
 "nbformat": 4,
 "nbformat_minor": 4
}

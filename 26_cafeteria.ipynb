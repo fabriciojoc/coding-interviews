{
 "cells": [
  {
   "cell_type": "markdown",
   "metadata": {},
   "source": [
    "# Cafeteria\n",
    "\n",
    "A cafeteria table consists of a row of N seats, numbered from 1 to N from left to right. Social distancing guidelines require that every diner be seated such that K seats to their left and K seats to their right (or all the remaining seats to that side if there are fewer than K) remain empty.\n",
    "\n",
    "There are currently M diners seated at the table, the ith of whom is in seat S_i. No two diners are sitting in the same seat, and the social distancing guidelines are satisfied.\n",
    "\n",
    "Determine the maximum number of additional diners who can potentially sit at the table without social distancing guidelines being violated for any new or existing diners, assuming that the existing diners cannot move and that the additional diners will cooperate to maximize how many of them can sit down.\n",
    "\n",
    "Please take care to write a solution which runs within the time limit.\n",
    "\n",
    "## Sample test case #1\n",
    "\n",
    "N = 10\n",
    "K = 1\n",
    "M = 2\n",
    "S = [2, 6]\n",
    "\n",
    "Expected Return Value = 3\n",
    "\n",
    "## Sample test case #2\n",
    "\n",
    "N = 15\n",
    "K = 2\n",
    "M = 3\n",
    "S = [11, 6, 14]\n",
    "\n",
    "Expected Return Value = 1\n",
    "\n",
    "## Sample Explanation\n",
    "\n",
    "In the first case, the cafeteria table has N = 10 seats, with two diners currently at seats 22 and 66 respectively. The table initially looks as follows, with brackets covering the K = 1 seat to the left and right of each existing diner that may not be taken.\n",
    "\n",
    "  1 2 3 4 5 6 7 8 9 10\n",
    "  \n",
    "  [---]___[---]\n",
    "  \n",
    "Three additional diners may sit at seats 4, 8, and 10 without violating the social distancing guidelines.\n",
    "\n",
    "In the second case, only 1 additional diner is able to join the table, by sitting in any of the first 3 seats."
   ]
  },
  {
   "cell_type": "code",
   "execution_count": 1,
   "metadata": {},
   "outputs": [],
   "source": [
    "from typing import List\n",
    "# Write any import statements here\n",
    "\n",
    "def getMaxAdditionalDinersCount(N: int, K: int, M: int, S: List[int]) -> int:\n",
    "  # initialize seats list\n",
    "  seats = S.copy()\n",
    "  # sort seats\n",
    "  seats.sort()\n",
    "  i = 1\n",
    "  # walk in possible seats\n",
    "  while i < N +1: #for i in range(1,N+1):\n",
    "    # before testing assume that it can be a seated\n",
    "    can_seat = True\n",
    "    # walk in seats\n",
    "    for seat in seats:\n",
    "      # social distancing check\n",
    "      if i - K <= seat <= i + K:\n",
    "        # meet social distance block, cannot seat!\n",
    "        can_seat = False\n",
    "        break\n",
    "    # check if current i can be seated\n",
    "    if can_seat:\n",
    "      # save it\n",
    "      seats.append(i)\n",
    "      i+=K+1\n",
    "    else:\n",
    "      i+=1\n",
    "  # all places that can be seated - seated places S\n",
    "  return len(seats) - len(S)"
   ]
  }
 ],
 "metadata": {
  "kernelspec": {
   "display_name": "Python 3",
   "language": "python",
   "name": "python3"
  },
  "language_info": {
   "codemirror_mode": {
    "name": "ipython",
    "version": 3
   },
   "file_extension": ".py",
   "mimetype": "text/x-python",
   "name": "python",
   "nbconvert_exporter": "python",
   "pygments_lexer": "ipython3",
   "version": "3.5.2"
  }
 },
 "nbformat": 4,
 "nbformat_minor": 4
}

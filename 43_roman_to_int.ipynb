{
 "cells": [
  {
   "cell_type": "markdown",
   "metadata": {},
   "source": [
    "# Roman To Integer\n",
    "\n",
    "Given a string A representing a roman numeral.\n",
    "\n",
    "Convert A into integer.\n",
    "\n",
    "A is guaranteed to be within the range from 1 to 3999.\n",
    "\n",
    "NOTE: Read more \n",
    "\n",
    "details about roman numerals at Roman Numeric System\n",
    "\n",
    "\n",
    "\n",
    "\n",
    "Input Format\n",
    "\n",
    "The only argument given is string A.\n",
    "Output Format\n",
    "\n",
    "Return an integer which is the integer verison of roman numeral string.\n",
    "For Example\n",
    "\n",
    "Input 1:\n",
    "    A = \"XIV\"\n",
    "Output 1:\n",
    "    14\n",
    "\n",
    "Input 2:\n",
    "    A = \"XX\"\n",
    "Output 2:\n",
    "    20\n"
   ]
  },
  {
   "cell_type": "code",
   "execution_count": 1,
   "metadata": {},
   "outputs": [],
   "source": [
    "class Solution:\n",
    "    # @param A : string\n",
    "    # @return an integer\n",
    "    def romanToInt(self, A):\n",
    "        translate_dict = {\n",
    "            'I': 1, 'V': 5, 'X': 10, 'L': 50, \n",
    "            'C': 100, 'D': 500, 'M': 1000\n",
    "        }\n",
    "        string = A\n",
    "        number = 0\n",
    "        while string != '':\n",
    "            if len(string) > 1:\n",
    "                if translate_dict[string[0]] < translate_dict[string[1]]:\n",
    "                    number += (translate_dict[string[1]] - translate_dict[string[0]])\n",
    "                    size = 2\n",
    "                else:\n",
    "                    size = 1\n",
    "                    number += translate_dict[string[0]]\n",
    "            else:\n",
    "                size = 1\n",
    "                number += translate_dict[string[0]]\n",
    "            # crop string\n",
    "            string = string[size:]\n",
    "        return number"
   ]
  },
  {
   "cell_type": "code",
   "execution_count": 2,
   "metadata": {},
   "outputs": [
    {
     "data": {
      "text/plain": [
       "15"
      ]
     },
     "execution_count": 2,
     "metadata": {},
     "output_type": "execute_result"
    }
   ],
   "source": [
    "Solution().romanToInt('XV')"
   ]
  }
 ],
 "metadata": {
  "kernelspec": {
   "display_name": "Python 3",
   "language": "python",
   "name": "python3"
  },
  "language_info": {
   "codemirror_mode": {
    "name": "ipython",
    "version": 3
   },
   "file_extension": ".py",
   "mimetype": "text/x-python",
   "name": "python",
   "nbconvert_exporter": "python",
   "pygments_lexer": "ipython3",
   "version": "3.5.2"
  }
 },
 "nbformat": 4,
 "nbformat_minor": 4
}

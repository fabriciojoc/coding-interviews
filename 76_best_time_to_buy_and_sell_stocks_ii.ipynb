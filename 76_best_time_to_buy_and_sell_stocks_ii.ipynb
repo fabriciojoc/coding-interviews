{
 "cells": [
  {
   "cell_type": "markdown",
   "metadata": {},
   "source": [
    "# Best Time to Buy and Sell Stocks II\n",
    "\n",
    "## Problem Description\n",
    "\n",
    "Say you have an array, A, for which the ith element is the price of a given stock on day i.\n",
    "\n",
    "Design an algorithm to find the maximum profit.\n",
    "\n",
    "You may complete as many transactions as you like (i.e., buy one and sell one share of the stock multiple times).\n",
    "\n",
    "However, you may not engage in multiple transactions at the same time (ie, you must sell the stock before you buy again).\n",
    "\n",
    "## Input Format:\n",
    "\n",
    "The first and the only argument is an array of integer, A.\n",
    "\n",
    "## Output Format:\n",
    "\n",
    "Return an integer, representing the maximum possible profit.\n",
    "\n",
    "## Constraints:\n",
    "\n",
    "0 <= len(A) <= 1e5\n",
    "\n",
    "1 <= A[i] <= 1e7\n",
    "\n",
    "## Example:\n",
    "\n",
    "Input 1:\n",
    "\n",
    "``A = [1, 2, 3]``\n",
    "\n",
    "Output 1:\n",
    "\n",
    "``2``\n",
    "\n",
    "Explanation 1:\n",
    "\n",
    "=> Buy a stock on day 0.\n",
    "    \n",
    "=> Sell the stock on day 1. (Profit +1)\n",
    "    \n",
    "=> Buy a stock on day 1.\n",
    "    \n",
    "=> Sell the stock on day 2. (Profit +1)\n",
    "\n",
    "Overall profit = 2\n",
    "\n",
    "Input 2:\n",
    "\n",
    "``A = [5, 2, 10]``\n",
    "\n",
    "Output 2:\n",
    "\n",
    "``8``\n",
    "\n",
    "Explanation 2:\n",
    "\n",
    "=> Buy a stock on day 1.\n",
    "\n",
    "=> Sell the stock on on day 2. (Profit +8)\n",
    "\n",
    "Overall profit = 8"
   ]
  },
  {
   "cell_type": "code",
   "execution_count": 1,
   "metadata": {},
   "outputs": [],
   "source": [
    "class Solution:\n",
    "    # @param A : tuple of integers\n",
    "    # @return an integer\n",
    "    def maxProfit(self, A):\n",
    "        A=list(A)\n",
    "        s=0\n",
    "        for i in range(1,len(A)):\n",
    "            c=A[i]-A[i-1]\n",
    "            # only add profit if it is positive! (if it is a profit)\n",
    "            if(c>0):\n",
    "                s=s+c\n",
    "        return s\n"
   ]
  },
  {
   "cell_type": "code",
   "execution_count": 2,
   "metadata": {},
   "outputs": [
    {
     "data": {
      "text/plain": [
       "8"
      ]
     },
     "execution_count": 2,
     "metadata": {},
     "output_type": "execute_result"
    }
   ],
   "source": [
    "Solution().maxProfit([5,2,10])"
   ]
  }
 ],
 "metadata": {
  "kernelspec": {
   "display_name": "Python 3",
   "language": "python",
   "name": "python3"
  },
  "language_info": {
   "codemirror_mode": {
    "name": "ipython",
    "version": 3
   },
   "file_extension": ".py",
   "mimetype": "text/x-python",
   "name": "python",
   "nbconvert_exporter": "python",
   "pygments_lexer": "ipython3",
   "version": "3.5.2"
  }
 },
 "nbformat": 4,
 "nbformat_minor": 4
}

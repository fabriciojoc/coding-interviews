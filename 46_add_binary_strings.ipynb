{
 "cells": [
  {
   "cell_type": "markdown",
   "metadata": {},
   "source": [
    "# Add Binary Strings\n",
    "\n",
    "Problem Description\n",
    "\n",
    "Given two binary strings, return their sum (also a binary string).\n",
    "Example:\n",
    "\n",
    "a = \"100\"\n",
    "\n",
    "\n",
    "b = \"11\"\n",
    "Return a + b = \"111\"."
   ]
  },
  {
   "cell_type": "code",
   "execution_count": 2,
   "metadata": {},
   "outputs": [],
   "source": [
    "class Solution:\n",
    "    # @param A : string\n",
    "    # @param B : string\n",
    "    # @return a strings\n",
    "    def addBinary(self, A, B):\n",
    "        if len(A) > len(B):\n",
    "            # fill B with leading zeros\n",
    "            while len(B) != len(A):\n",
    "                B = '0' + B\n",
    "        else:\n",
    "            # fill A with leading zeros\n",
    "            while len(A) != len(B):\n",
    "                A = '0' + A\n",
    "        carry = 0\n",
    "        out = ''\n",
    "        for i in range(len(A)-1, -1, -1):\n",
    "            a = int(A[i])\n",
    "            b = int(B[i])\n",
    "            s = a + b + carry\n",
    "            if s == 3:\n",
    "                out = '1' + out\n",
    "                carry = 1\n",
    "            elif s == 2:\n",
    "                out = '0' + out\n",
    "                carry = 1\n",
    "            elif s == 1:\n",
    "                out = '1' + out\n",
    "                carry = 0\n",
    "            else:\n",
    "                out = '0' + out\n",
    "                carry = 0\n",
    "        if carry:\n",
    "            out = '1' + out\n",
    "        return out"
   ]
  },
  {
   "cell_type": "code",
   "execution_count": 3,
   "metadata": {},
   "outputs": [
    {
     "data": {
      "text/plain": [
       "'111'"
      ]
     },
     "execution_count": 3,
     "metadata": {},
     "output_type": "execute_result"
    }
   ],
   "source": [
    "Solution().addBinary('100', '11')"
   ]
  }
 ],
 "metadata": {
  "kernelspec": {
   "display_name": "Python 3",
   "language": "python",
   "name": "python3"
  },
  "language_info": {
   "codemirror_mode": {
    "name": "ipython",
    "version": 3
   },
   "file_extension": ".py",
   "mimetype": "text/x-python",
   "name": "python",
   "nbconvert_exporter": "python",
   "pygments_lexer": "ipython3",
   "version": "3.5.2"
  }
 },
 "nbformat": 4,
 "nbformat_minor": 4
}

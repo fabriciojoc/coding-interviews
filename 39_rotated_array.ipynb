{
 "cells": [
  {
   "cell_type": "markdown",
   "metadata": {},
   "source": [
    "# Rotated Array\n",
    "\n",
    "Suppose a sorted array A is rotated at some pivot unknown to you beforehand.\n",
    "\n",
    "(i.e., 0 1 2 4 5 6 7 might become 4 5 6 7 0 1 2).\n",
    "\n",
    "Find the minimum element.\n",
    "\n",
    "The array will not contain duplicates.\n",
    "\n",
    "NOTE 1: Also think about the case when there are duplicates. Does your current solution work? How does the time complexity change?*\n",
    "PROBLEM APPROACH:\n",
    "\n",
    "Note: If you know the number of times the array is rotated, then this problem becomes trivial. If the number of rotation is x, then minimum element is A[x].\n",
    "\n",
    "Lets look at how we can calculate the number of times the array is rotated.\n",
    "\n",
    "Complete solution in the hints.\n",
    "\n",
    "\n"
   ]
  },
  {
   "cell_type": "code",
   "execution_count": 1,
   "metadata": {},
   "outputs": [
    {
     "data": {
      "text/plain": [
       "0"
      ]
     },
     "execution_count": 1,
     "metadata": {},
     "output_type": "execute_result"
    }
   ],
   "source": [
    "def findMin(A):\n",
    "    for i in range(1,len(A)-1):\n",
    "        if A[i] < A[i-1]:\n",
    "            return A[i]\n",
    "    return A[0]\n",
    "findMin([4, 5, 6, 7, 0, 1, 2])"
   ]
  },
  {
   "cell_type": "code",
   "execution_count": 2,
   "metadata": {},
   "outputs": [],
   "source": [
    "class Solution:\n",
    "    # @param A : tuple of integers\n",
    "    # @return an integer\n",
    "    def findMin(self, A):\n",
    "        n = len(A)\n",
    "        left = 0\n",
    "        right = n - 1\n",
    "        while left <= right:\n",
    "            mid = (left + right)/2\n",
    "            next = (mid+1)%n\n",
    "            prev = (mid+n-1)%n\n",
    "            if A[left] <= A[right]:\n",
    "                return A[left]\n",
    "            elif A[mid] <= A[prev] and A[mid] <= A[next]:\n",
    "                return A[mid]\n",
    "            elif A[mid] <= A[right]:\n",
    "                right = mid - 1\n",
    "            elif A[mid] >= A[left]:\n",
    "                left = mid + 1\n",
    "        return -1"
   ]
  }
 ],
 "metadata": {
  "kernelspec": {
   "display_name": "Python 3",
   "language": "python",
   "name": "python3"
  },
  "language_info": {
   "codemirror_mode": {
    "name": "ipython",
    "version": 3
   },
   "file_extension": ".py",
   "mimetype": "text/x-python",
   "name": "python",
   "nbconvert_exporter": "python",
   "pygments_lexer": "ipython3",
   "version": "3.5.2"
  }
 },
 "nbformat": 4,
 "nbformat_minor": 4
}

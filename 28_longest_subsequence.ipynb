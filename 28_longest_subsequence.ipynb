{
 "cells": [
  {
   "cell_type": "markdown",
   "metadata": {},
   "source": [
    "# Length of Longest Subsequence\n",
    "\n",
    "Problem Description\n",
    "\n",
    "Given an 1D integer array A of length N, find the length of longest subsequence which is first increasing then decreasing.\n",
    "\n",
    "\n",
    "\n",
    "Problem Constraints\n",
    "0 <= N <= 3000\n",
    "\n",
    " -107 <= A[i] <= 107\n",
    "\n",
    "\n",
    "\n",
    "Input Format\n",
    "The first and the only argument contains an integer array A.\n",
    "\n",
    "\n",
    "\n",
    "Output Format\n",
    "Return an integer representing the answer as described in the problem statement.\n",
    "\n",
    "\n",
    "\n",
    "Example Input\n",
    "Input 1:\n",
    "\n",
    " A = [1, 2, 1]\n",
    "Input 2:\n",
    "\n",
    " A = [1, 11, 2, 10, 4, 5, 2, 1]\n",
    "\n",
    "\n",
    "Example Output\n",
    "Output 1:\n",
    "\n",
    " 3\n",
    "Output 2:\n",
    "\n",
    " 6\n",
    "\n",
    "\n",
    "Example Explanation\n",
    "Explanation 1:\n",
    "\n",
    " [1, 2, 1] is the longest subsequence.\n",
    "Explanation 2:\n",
    "\n",
    " [1 2 10 4 2 1] is the longest subsequence."
   ]
  },
  {
   "cell_type": "code",
   "execution_count": 2,
   "metadata": {},
   "outputs": [
    {
     "data": {
      "text/plain": [
       "6"
      ]
     },
     "execution_count": 2,
     "metadata": {},
     "output_type": "execute_result"
    }
   ],
   "source": [
    "def longestSubsequenceLength(A):\n",
    "    increase = [1] * len(A)\n",
    "    decrease = [1] * len(A)\n",
    "    for i in range(len(A)):\n",
    "        for j in range(i):\n",
    "            if A[j] < A[i]:\n",
    "                increase[i] = max(increase[i], 1 + increase[j])\n",
    "    for i in range(len(A)-2,-1,-1):\n",
    "        for j in range(len(A)-1,i,-1):\n",
    "            if A[j] < A[i]:\n",
    "                decrease[i] = max(decrease[i], 1 + decrease[j])\n",
    "    longest = 0\n",
    "    for i in range(len(A)):\n",
    "        longest = max(longest, increase[i] + decrease[i] - 1)\n",
    "    return(longest)\n",
    "\n",
    "A = [1, 2, 1]\n",
    "longestSubsequenceLength(A)\n",
    "A = [1, 11, 2, 10, 4, 5, 2, 1]\n",
    "longestSubsequenceLength(A)"
   ]
  }
 ],
 "metadata": {
  "kernelspec": {
   "display_name": "Python 3",
   "language": "python",
   "name": "python3"
  },
  "language_info": {
   "codemirror_mode": {
    "name": "ipython",
    "version": 3
   },
   "file_extension": ".py",
   "mimetype": "text/x-python",
   "name": "python",
   "nbconvert_exporter": "python",
   "pygments_lexer": "ipython3",
   "version": "3.5.2"
  }
 },
 "nbformat": 4,
 "nbformat_minor": 4
}

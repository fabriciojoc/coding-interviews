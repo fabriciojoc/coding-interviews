{
 "cells": [
  {
   "cell_type": "markdown",
   "metadata": {},
   "source": [
    "# Pretty Json\n",
    "\n",
    "Given a string A representating json object. Return an array of string denoting json object with proper indentaion.\n",
    "\n",
    "Rules for proper indentaion:\n",
    "\n",
    "Every inner brace should increase one indentation to the following lines.\n",
    "Every close brace should decrease one indentation to the same line and the following lines.\n",
    "The indents can be increased with an additional ‘\\t’\n",
    "Note:\n",
    "\n",
    "[] and {} are only acceptable braces in this case.\n",
    "\n",
    "Assume for this problem that space characters can be done away with.\n",
    "\n",
    "\n",
    "\n",
    "\n",
    "Input Format\n",
    "\n",
    "The only argument given is the integer array A.\n",
    "Output Format\n",
    "\n",
    "Return a list of strings, where each entry corresponds to a single line. The strings should not have \"\\n\" character in them.\n",
    "For Example\n",
    "\n",
    "Input 1:\n",
    "    A = \"{A:\"B\",C:{D:\"E\",F:{G:\"H\",I:\"J\"}}}\"\n",
    "Output 1:\n",
    "    { \n",
    "        A:\"B\",\n",
    "        C: \n",
    "        { \n",
    "            D:\"E\",\n",
    "            F: \n",
    "            { \n",
    "                G:\"H\",\n",
    "                I:\"J\"\n",
    "            } \n",
    "        } \n",
    "    }\n",
    "\n",
    "Input 2:\n",
    "    A = [\"foo\", {\"bar\":[\"baz\",null,1.0,2]}]\n",
    "Output 2:\n",
    "   [\n",
    "        \"foo\", \n",
    "        {\n",
    "            \"bar\":\n",
    "            [\n",
    "                \"baz\", \n",
    "                null, \n",
    "                1.0, \n",
    "                2\n",
    "            ]\n",
    "        }\n",
    "    ]\n"
   ]
  },
  {
   "cell_type": "code",
   "execution_count": 18,
   "metadata": {},
   "outputs": [],
   "source": [
    "class Solution:\n",
    "    output = []\n",
    "    indent = 0\n",
    "    ident_char = '  '\n",
    "    # @param A : string\n",
    "    # @return a list of strings\n",
    "    def prettyJSON(self, A):\n",
    "        if type(A).__name__ == 'list':\n",
    "            # print('[')\n",
    "            self.output.append(self.ident_char*self.indent + '[')\n",
    "            self.indent += 1\n",
    "            for item in A:\n",
    "                self.prettyJSON(item)\n",
    "            # print(']')\n",
    "            self.output.append(self.ident_char*self.indent + ']')\n",
    "            self.indent -= 1\n",
    "        elif type(A).__name__ == 'dict':\n",
    "            # print('{')\n",
    "            self.output.append(self.ident_char*self.indent + '{')\n",
    "            self.indent += 1\n",
    "            for key, value in A.items():\n",
    "                # print('\"{}\"'.format(key))\n",
    "                self.output.append(self.ident_char*self.indent + '\"{}\":'.format(key))\n",
    "                self.prettyJSON(value)\n",
    "            # print('}')\n",
    "            self.output.append(self.ident_char*self.indent + '}')\n",
    "            self.indent -= 1\n",
    "        else:\n",
    "            # print(\"{},\".format(A))\n",
    "            # self.output.append(self.ident_char*self.indent + \"{},\".format(A))\n",
    "            self.output[-1] = self.output[-1] + \"{},\".format(A)\n",
    "        return self.output"
   ]
  },
  {
   "cell_type": "code",
   "execution_count": 19,
   "metadata": {},
   "outputs": [
    {
     "data": {
      "text/plain": [
       "['{',\n",
       " '  \"C\":',\n",
       " '  {',\n",
       " '    \"F\":',\n",
       " '    {',\n",
       " '      \"I\":J,',\n",
       " '      \"G\":H,',\n",
       " '      }',\n",
       " '    \"D\":E,',\n",
       " '    }',\n",
       " '  \"A\":B,',\n",
       " '  }']"
      ]
     },
     "execution_count": 19,
     "metadata": {},
     "output_type": "execute_result"
    }
   ],
   "source": [
    "Solution().prettyJSON({'A':\"B\",'C':{'D':\"E\",'F':{'G':\"H\",'I':\"J\"}}})"
   ]
  },
  {
   "cell_type": "code",
   "execution_count": 35,
   "metadata": {},
   "outputs": [],
   "source": [
    "class Solution:\n",
    "    output = []\n",
    "    line = ''\n",
    "    indent = 0\n",
    "    ident_char = '\\t'\n",
    "    # @param A : string\n",
    "    # @return a list of strings\n",
    "    def prettyJSON(self, A):\n",
    "        self.output = []\n",
    "        self.line = ''\n",
    "        self.ident = 0\n",
    "        self.ident_chart = '\\t'\n",
    "        # for item in A:\n",
    "        i = 0\n",
    "        while i < len(A):\n",
    "        #for i in range(len(A)):\n",
    "            item = A[i]\n",
    "            if item in ['{', '[']:\n",
    "                if self.line != '':\n",
    "                    self.output.append(self.ident_char*self.indent + self.line)\n",
    "                    # cur_item += self.line\n",
    "                    self.line = ''\n",
    "                self.output.append(self.ident_char*self.indent + item)\n",
    "                self.indent += 1\n",
    "            elif item in ['}', ']']:\n",
    "                if self.line != '':\n",
    "                    self.output.append(self.ident_char*self.indent + self.line)\n",
    "                    # cur_item += self.line\n",
    "                    self.line = ''\n",
    "                # self.output.append(self.ident_char*self.indent + cur_item)\n",
    "                self.indent -= 1\n",
    "                if i + 1 < len(A) and A[i+1] == ',':\n",
    "                    self.output.append(self.ident_char*self.indent + item + ',')\n",
    "                    i = i+1\n",
    "                    # else:\n",
    "                    #     self.output.append(self.ident_char*self.indent + item)\n",
    "                else:\n",
    "                    self.output.append(self.ident_char*self.indent + item)\n",
    "            else:\n",
    "                self.line += item\n",
    "                if item == ',':\n",
    "                    self.output.append(self.ident_char*self.indent + self.line)\n",
    "                    self.line = ''\n",
    "            i += 1\n",
    "        return self.output"
   ]
  },
  {
   "cell_type": "code",
   "execution_count": 36,
   "metadata": {},
   "outputs": [
    {
     "data": {
      "text/plain": [
       "['{',\n",
       " \"\\t'id':100,\",\n",
       " \"\\t'firstName':'Jack',\",\n",
       " \"\\t'lastName':'Jones',\",\n",
       " \"\\t'age':12\",\n",
       " '}']"
      ]
     },
     "execution_count": 36,
     "metadata": {},
     "output_type": "execute_result"
    }
   ],
   "source": [
    "Solution().prettyJSON(\"{'id':100,'firstName':'Jack','lastName':'Jones','age':12}\")"
   ]
  },
  {
   "cell_type": "code",
   "execution_count": 37,
   "metadata": {},
   "outputs": [
    {
     "data": {
      "text/plain": [
       "['[',\n",
       " '\\t\"foo\",',\n",
       " '\\t ',\n",
       " '\\t{',\n",
       " '\\t\\t\"bar\":',\n",
       " '\\t\\t[',\n",
       " '\\t\\t\\t\"baz\",',\n",
       " '\\t\\t\\tnull,',\n",
       " '\\t\\t\\t1.0,',\n",
       " '\\t\\t\\t2',\n",
       " '\\t\\t]',\n",
       " '\\t}',\n",
       " ']']"
      ]
     },
     "execution_count": 37,
     "metadata": {},
     "output_type": "execute_result"
    }
   ],
   "source": [
    "Solution().prettyJSON('[\"foo\", {\"bar\":[\"baz\",null,1.0,2]}]')"
   ]
  },
  {
   "cell_type": "code",
   "execution_count": 38,
   "metadata": {},
   "outputs": [
    {
     "data": {
      "text/plain": [
       "['{',\n",
       " '\\tA:\"B\",',\n",
       " '\\tC:',\n",
       " '\\t{',\n",
       " '\\t\\tD:\"E\",',\n",
       " '\\t\\tF:',\n",
       " '\\t\\t{',\n",
       " '\\t\\t\\tG:\"H\",',\n",
       " '\\t\\t\\tI:\"J\"',\n",
       " '\\t\\t}',\n",
       " '\\t}',\n",
       " '}']"
      ]
     },
     "execution_count": 38,
     "metadata": {},
     "output_type": "execute_result"
    }
   ],
   "source": [
    "Solution().prettyJSON('{A:\"B\",C:{D:\"E\",F:{G:\"H\",I:\"J\"}}}')"
   ]
  }
 ],
 "metadata": {
  "kernelspec": {
   "display_name": "Python 3",
   "language": "python",
   "name": "python3"
  },
  "language_info": {
   "codemirror_mode": {
    "name": "ipython",
    "version": 3
   },
   "file_extension": ".py",
   "mimetype": "text/x-python",
   "name": "python",
   "nbconvert_exporter": "python",
   "pygments_lexer": "ipython3",
   "version": "3.5.2"
  }
 },
 "nbformat": 4,
 "nbformat_minor": 4
}

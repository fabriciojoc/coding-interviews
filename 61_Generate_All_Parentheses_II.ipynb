{
 "cells": [
  {
   "cell_type": "markdown",
   "metadata": {},
   "source": [
    "# Generate all Parentheses II\n",
    "\n",
    "Given n pairs of parentheses, write a function to generate all combinations of well-formed parentheses of length 2*n.\n",
    "\n",
    "For example, given n = 3, a solution set is:\n",
    "\n",
    "\"((()))\", \"(()())\", \"(())()\", \"()(())\", \"()()()\"\n",
    "\n",
    "Make sure the returned list of strings are sorted.\n",
    "\n"
   ]
  },
  {
   "cell_type": "code",
   "execution_count": 1,
   "metadata": {},
   "outputs": [],
   "source": [
    "class Solution:\n",
    "    def generateParenthesis(self, A):\n",
    "        self.output = set()\n",
    "        self.generate(A, ['('])\n",
    "        return sorted(self.output)\n",
    "\n",
    "    def generate(self, n, braces):\n",
    "        if len(braces) == 2*n:\n",
    "            self.output.add(''.join(braces))\n",
    "            return\n",
    "\n",
    "        if braces.count('(') < n:\n",
    "            self.generate(n, braces + ['('])\n",
    "\n",
    "        if braces.count(')') < braces.count('('):\n",
    "            self.generate(n, braces + [')'])"
   ]
  },
  {
   "cell_type": "code",
   "execution_count": 2,
   "metadata": {},
   "outputs": [
    {
     "data": {
      "text/plain": [
       "['((()))', '(()())', '(())()', '()(())', '()()()']"
      ]
     },
     "execution_count": 2,
     "metadata": {},
     "output_type": "execute_result"
    }
   ],
   "source": [
    "Solution().generateParenthesis(3)"
   ]
  }
 ],
 "metadata": {
  "kernelspec": {
   "display_name": "Python 3",
   "language": "python",
   "name": "python3"
  },
  "language_info": {
   "codemirror_mode": {
    "name": "ipython",
    "version": 3
   },
   "file_extension": ".py",
   "mimetype": "text/x-python",
   "name": "python",
   "nbconvert_exporter": "python",
   "pygments_lexer": "ipython3",
   "version": "3.5.2"
  }
 },
 "nbformat": 4,
 "nbformat_minor": 4
}

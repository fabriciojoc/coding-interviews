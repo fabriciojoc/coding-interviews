{
 "cells": [
  {
   "cell_type": "markdown",
   "metadata": {},
   "source": [
    "# Combination Sum\n",
    "\n",
    "Problem Description\n",
    " \n",
    " \n",
    "\n",
    "Given an array of candidate numbers A and a target number B, find all unique combinations in A where the candidate numbers sums to B.\n",
    "\n",
    "The same repeated number may be chosen from A unlimited number of times.\n",
    "\n",
    "Note:\n",
    "\n",
    "1) All numbers (including target) will be positive integers.\n",
    "\n",
    "2) Elements in a combination (a1, a2, … , ak) must be in non-descending order. (ie, a1 ≤ a2 ≤ … ≤ ak).\n",
    "\n",
    "3) The combinations themselves must be sorted in ascending order.\n",
    "\n",
    "4) CombinationA > CombinationB iff (a1 > b1) OR (a1 = b1 AND a2 > b2) OR ... (a1 = b1 AND a2 = b2 AND ... ai = bi AND ai+1 > bi+1)\n",
    "\n",
    "5) The solution set must not contain duplicate combinations.\n",
    "\n",
    " \n",
    "\n",
    "\n",
    "\n",
    "Problem Constraints\n",
    "1 <= |A| <= 20 \n",
    "\n",
    "1 <= A[i] <= 50\n",
    "\n",
    "1 <= B <= 500\n",
    "\n",
    "\n",
    "\n",
    "Input Format\n",
    "The first argument is an integer array A.\n",
    "\n",
    "The second argument is integer B.\n",
    "\n",
    "\n",
    "\n",
    "Output Format\n",
    " Return a vector of all combinations that sum up to B.\n",
    "\n",
    "\n",
    "\n",
    "Example Input\n",
    "Input 1:\n",
    "\n",
    "A = [2, 3]\n",
    "\n",
    "B = 2\n",
    "\n",
    "Input 2:\n",
    "\n",
    "A = [2, 3, 6, 7]\n",
    "\n",
    "B = 7\n",
    "\n",
    "\n",
    "Example Output\n",
    "Output 1:\n",
    "\n",
    "[ [2] ]\n",
    "\n",
    "Output 2:\n",
    "\n",
    "[ [2, 2, 3] , [7] ]\n",
    "\n",
    "\n",
    "Example Explanation\n",
    "\n",
    "Explanation 1:\n",
    "\n",
    "All possible combinations are listed.\n",
    "\n",
    "Explanation 2:\n",
    "\n",
    "All possible combinations are listed.\n"
   ]
  },
  {
   "cell_type": "code",
   "execution_count": 1,
   "metadata": {},
   "outputs": [],
   "source": [
    "class Solution:\n",
    "    # @param A : list of integers\n",
    "    # @param B : integer\n",
    "    # @return a list of list of integers\n",
    "    def combinationSum(self, A, B):\n",
    "        def aux(ans, cur, A, B):\n",
    "            if sum(cur)>B:\n",
    "                return\n",
    "            elif sum(cur)==B:\n",
    "                if cur not in ans:\n",
    "                    ans.append(cur)\n",
    "                return\n",
    "            \n",
    "            for i in A:\n",
    "                aux(ans, sorted(cur+[i]), A, B)\n",
    "            return\n",
    "        A.sort()\n",
    "        ans=[]\n",
    "        aux(ans, [], A, B)\n",
    "        return ans"
   ]
  },
  {
   "cell_type": "code",
   "execution_count": 3,
   "metadata": {},
   "outputs": [
    {
     "data": {
      "text/plain": [
       "[[2, 2, 3], [7]]"
      ]
     },
     "execution_count": 3,
     "metadata": {},
     "output_type": "execute_result"
    }
   ],
   "source": [
    "Solution().combinationSum([2, 3, 6, 7], 7)"
   ]
  }
 ],
 "metadata": {
  "kernelspec": {
   "display_name": "Python 3",
   "language": "python",
   "name": "python3"
  },
  "language_info": {
   "codemirror_mode": {
    "name": "ipython",
    "version": 3
   },
   "file_extension": ".py",
   "mimetype": "text/x-python",
   "name": "python",
   "nbconvert_exporter": "python",
   "pygments_lexer": "ipython3",
   "version": "3.5.2"
  }
 },
 "nbformat": 4,
 "nbformat_minor": 4
}

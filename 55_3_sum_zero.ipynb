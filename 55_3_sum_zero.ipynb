{
 "cells": [
  {
   "cell_type": "markdown",
   "metadata": {},
   "source": [
    "# 3 Sum Zero\n",
    "\n",
    "Given an array S of n integers, are there elements a, b, c in S such that a + b + c = 0? \n",
    "\n",
    "Find all unique triplets in the array which gives the sum of zero.\n",
    "\n",
    "Note:\n",
    "\n",
    "Elements in a triplet (a,b,c) must be in non-descending order. (ie, a ≤ b ≤ c)\n",
    "\n",
    "The solution set must not contain duplicate triplets.\n",
    "\n",
    "For example, given array S = {-1 0 1 2 -1 -4},\n",
    "\n",
    "A solution set is:\n",
    "\n",
    "  (-1, 0, 1)\n",
    "\n",
    "  (-1, -1, 2)"
   ]
  },
  {
   "cell_type": "code",
   "execution_count": 1,
   "metadata": {},
   "outputs": [],
   "source": [
    "class Solution:\n",
    "    # @param A : list of integers\n",
    "    # @return a list of list of integers\n",
    "    def threeSum(self, A):\n",
    "        A.sort()\n",
    "        n = len(A)\n",
    "        if n == 0:\n",
    "            return []\n",
    "        ret = []\n",
    "        for i in range(n):\n",
    "            if i == 0 or A[i] > A[i-1]:\n",
    "                j = i + 1\n",
    "                k = n - 1\n",
    "                while j < k :\n",
    "                    temp = A[i]+A[j]+A[k]\n",
    "                    if temp == 0:\n",
    "                        ret.append([A[i],A[j],A[k]])\n",
    "                        j += 1\n",
    "                        k -= 1\n",
    "                        while j < k and A[k] == A[k+1]:\n",
    "                            k -= 1\n",
    "                        while j < k and A[j] == A[j-1]:\n",
    "                            j += 1\n",
    "                    elif temp < 0:\n",
    "                        j += 1\n",
    "                    else:\n",
    "                        k -= 1\n",
    "        return ret"
   ]
  },
  {
   "cell_type": "code",
   "execution_count": 2,
   "metadata": {},
   "outputs": [
    {
     "data": {
      "text/plain": [
       "[[-1, -1, 2], [-1, 0, 1]]"
      ]
     },
     "execution_count": 2,
     "metadata": {},
     "output_type": "execute_result"
    }
   ],
   "source": [
    "Solution().threeSum([-1, 0, 1, 2, -1, -4])"
   ]
  },
  {
   "cell_type": "code",
   "execution_count": 3,
   "metadata": {},
   "outputs": [],
   "source": [
    "class Solution:\n",
    "    # @param A : list of integers\n",
    "    # @return a list of list of integers\n",
    "    def threeSum(self, A):\n",
    "        result = []\n",
    "        for i in range(len(A)):\n",
    "            for j in range(len(A)):\n",
    "                for k in range(len(A)):\n",
    "                    if i != j and i != k and j != k:\n",
    "                        if A[i] + A[j] + A[k] == 0 and A[i] <= A[j] <= A[k] and [A[i], A[j], A[k]] not in result:\n",
    "                            result.append([A[i], A[j], A[k]])\n",
    "        return result"
   ]
  },
  {
   "cell_type": "code",
   "execution_count": 4,
   "metadata": {},
   "outputs": [
    {
     "data": {
      "text/plain": [
       "[[-1, 0, 1], [-1, -1, 2]]"
      ]
     },
     "execution_count": 4,
     "metadata": {},
     "output_type": "execute_result"
    }
   ],
   "source": [
    "Solution().threeSum([-1, 0, 1, 2, -1, -4])"
   ]
  }
 ],
 "metadata": {
  "kernelspec": {
   "display_name": "Python 3",
   "language": "python",
   "name": "python3"
  },
  "language_info": {
   "codemirror_mode": {
    "name": "ipython",
    "version": 3
   },
   "file_extension": ".py",
   "mimetype": "text/x-python",
   "name": "python",
   "nbconvert_exporter": "python",
   "pygments_lexer": "ipython3",
   "version": "3.5.2"
  }
 },
 "nbformat": 4,
 "nbformat_minor": 4
}

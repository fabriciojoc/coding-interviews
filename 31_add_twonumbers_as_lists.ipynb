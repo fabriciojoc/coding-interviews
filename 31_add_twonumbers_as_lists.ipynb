{
 "cells": [
  {
   "cell_type": "markdown",
   "metadata": {},
   "source": [
    "# Add Two Numbers as Lists\n",
    "\n",
    "\n",
    "You are given two linked lists representing two non-negative numbers. The digits are stored in reverse order and each of their nodes contain a single digit. Add the two numbers and return it as a linked list.\n",
    "\n",
    "Input: (2 -> 4 -> 3) + (5 -> 6 -> 4)\n",
    "\n",
    "Output: 7 -> 0 -> 8\n",
    "\n",
    "342 + 465 = 807\n",
    "\n",
    "Make sure there are no trailing zeros in the output list\n",
    "\n",
    "So, 7 -> 0 -> 8 -> 0 is not a valid response even though the value is still 807."
   ]
  },
  {
   "cell_type": "code",
   "execution_count": 24,
   "metadata": {},
   "outputs": [],
   "source": [
    "# Definition for singly-linked list.\n",
    "class ListNode:\n",
    "    def __init__(self, x):\n",
    "        self.val = x\n",
    "        self.next = None\n",
    "\n",
    "# @param A : head node of linked list\n",
    "# @param B : head node of linked list\n",
    "# @return the head node in the linked list\n",
    "def addTwoNumbers(A, B):\n",
    "    a, b = A, B\n",
    "    # carry out\n",
    "    carry = 0\n",
    "    # node out\n",
    "    nodeOut = None\n",
    "    prev = None\n",
    "    out = []\n",
    "    # iterate while there is one item\n",
    "    while a or b or carry:\n",
    "        # get valA node value\n",
    "        if a:\n",
    "            valA = a.val\n",
    "            a = a.next\n",
    "        else:\n",
    "            valA = 0\n",
    "        # get valB node value\n",
    "        if b:\n",
    "            valB = b.val\n",
    "            b = b.next\n",
    "        else:\n",
    "            valB = 0\n",
    "        # sum valA and valB, considering carry\n",
    "        s = (valA + valB + carry)\n",
    "        out.append(s)\n",
    "        # get next carry\n",
    "        carry = s // 10\n",
    "        # create new node\n",
    "        newNode = ListNode(s % 10)\n",
    "        if nodeOut:\n",
    "            prev.next = newNode\n",
    "            prev = newNode\n",
    "        else:\n",
    "            nodeOut = newNode\n",
    "            prev = newNode\n",
    "    # print(out)\n",
    "    return(nodeOut)"
   ]
  },
  {
   "cell_type": "code",
   "execution_count": 25,
   "metadata": {},
   "outputs": [
    {
     "name": "stdout",
     "output_type": "stream",
     "text": [
      "0 0 2 "
     ]
    }
   ],
   "source": [
    "A = ListNode(9)\n",
    "A.next = ListNode(9)\n",
    "A.next.next = ListNode(1)\n",
    "\n",
    "B = ListNode(1)\n",
    "\n",
    "l = addTwoNumbers(A, B)\n",
    "\n",
    "while l:\n",
    "    print(l.val, end=\" \")\n",
    "    l = l.next"
   ]
  }
 ],
 "metadata": {
  "kernelspec": {
   "display_name": "Python 3",
   "language": "python",
   "name": "python3"
  },
  "language_info": {
   "codemirror_mode": {
    "name": "ipython",
    "version": 3
   },
   "file_extension": ".py",
   "mimetype": "text/x-python",
   "name": "python",
   "nbconvert_exporter": "python",
   "pygments_lexer": "ipython3",
   "version": "3.5.2"
  }
 },
 "nbformat": 4,
 "nbformat_minor": 4
}

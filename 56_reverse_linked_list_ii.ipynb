{
 "cells": [
  {
   "cell_type": "markdown",
   "metadata": {},
   "source": [
    "# Reverse Link List II\n",
    "\n",
    "Reverse a linked list from position m to n. Do it in-place and in one-pass.\n",
    "\n",
    "For example:\n",
    "\n",
    "Given 1->2->3->4->5->NULL, m = 2 and n = 4,\n",
    "\n",
    "return 1->4->3->2->5->NULL.\n",
    "\n",
    "Note:\n",
    "\n",
    "Given m, n satisfy the following condition:\n",
    "\n",
    "1 ≤ m ≤ n ≤ length of list.\n",
    "\n",
    "Note 2:\n",
    "\n",
    "Usually the version often seen in the interviews is reversing the whole linked list which is obviously an easier version of this question."
   ]
  },
  {
   "cell_type": "code",
   "execution_count": 4,
   "metadata": {},
   "outputs": [],
   "source": [
    "# Definition for singly-linked list.\n",
    "class ListNode:\n",
    "    def __init__(self, x):\n",
    "        self.val = x\n",
    "        self.next = None\n",
    "\n",
    "class Solution:\n",
    "    # @param A : head node of linked list\n",
    "    # @param m : integer\n",
    "    # @param n : integer\n",
    "    # @return the head node in the linked list\n",
    "    def reverseBetween(self, A, m, N):\n",
    "        head = A\n",
    "        if head == None or head.next == None:\n",
    "            return head\n",
    "        dummy = ListNode (0)\n",
    "        dummy.next = head\n",
    "        head1 = dummy\n",
    "        for i in range (m - 1 ):\n",
    "            head1 = head1.next\n",
    "        p = head1.next\n",
    "        for i in range (N - m):\n",
    "            tmp = head1.next\n",
    "            head1.next = p.next\n",
    "            p.next = p.next.next\n",
    "            head1.next.next = tmp\n",
    "        return dummy.next"
   ]
  },
  {
   "cell_type": "code",
   "execution_count": 13,
   "metadata": {},
   "outputs": [],
   "source": [
    "head = ListNode(1)\n",
    "head.next = ListNode(2)\n",
    "head.next.next = ListNode(3)\n",
    "head.next.next.next = ListNode(4)\n",
    "head.next.next.next.next = ListNode(5)\n",
    "l = Solution().reverseBetween(head, 2, 4)"
   ]
  },
  {
   "cell_type": "code",
   "execution_count": 14,
   "metadata": {},
   "outputs": [
    {
     "name": "stdout",
     "output_type": "stream",
     "text": [
      "1->4->3->2->5->NULL\n"
     ]
    }
   ],
   "source": [
    "while l != None:\n",
    "    print(l.val, end='->')\n",
    "    l = l.next\n",
    "print('NULL')"
   ]
  }
 ],
 "metadata": {
  "kernelspec": {
   "display_name": "Python 3",
   "language": "python",
   "name": "python3"
  },
  "language_info": {
   "codemirror_mode": {
    "name": "ipython",
    "version": 3
   },
   "file_extension": ".py",
   "mimetype": "text/x-python",
   "name": "python",
   "nbconvert_exporter": "python",
   "pygments_lexer": "ipython3",
   "version": "3.5.2"
  }
 },
 "nbformat": 4,
 "nbformat_minor": 4
}

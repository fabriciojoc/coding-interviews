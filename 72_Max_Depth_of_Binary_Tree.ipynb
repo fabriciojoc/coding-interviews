{
 "cells": [
  {
   "cell_type": "markdown",
   "metadata": {},
   "source": [
    "# Max Depth of Binary Tree\n"
   ]
  },
  {
   "cell_type": "code",
   "execution_count": 2,
   "metadata": {},
   "outputs": [],
   "source": [
    "# Definition for a  binary tree node\n",
    "class TreeNode:\n",
    "    def __init__(self, x):\n",
    "        self.val = x\n",
    "        self.left = None\n",
    "        self.right = None\n",
    "\n",
    "class Solution:\n",
    "    # @param A : root node of tree\n",
    "    # @return an integer\n",
    "    def maxDepth(self, A):\n",
    "        if not A:\n",
    "            return 0\n",
    "        return max(1 + self.maxDepth(A.left), 1 + self.maxDepth(A.right))"
   ]
  },
  {
   "cell_type": "code",
   "execution_count": 3,
   "metadata": {},
   "outputs": [
    {
     "data": {
      "text/plain": [
       "4"
      ]
     },
     "execution_count": 3,
     "metadata": {},
     "output_type": "execute_result"
    }
   ],
   "source": [
    "t = TreeNode(3)\n",
    "t.left = TreeNode(5)\n",
    "t.right = TreeNode(1)\n",
    "t.left.left = TreeNode(6)\n",
    "t.left.right = TreeNode(2)\n",
    "t.left.right.left = TreeNode(7)\n",
    "t.left.right.right = TreeNode(4)\n",
    "t.right.left = TreeNode(0)\n",
    "t.right.right = TreeNode(8)\n",
    "s = Solution()\n",
    "s.maxDepth(t)#, 5, 1)"
   ]
  }
 ],
 "metadata": {
  "kernelspec": {
   "display_name": "Python 3",
   "language": "python",
   "name": "python3"
  },
  "language_info": {
   "codemirror_mode": {
    "name": "ipython",
    "version": 3
   },
   "file_extension": ".py",
   "mimetype": "text/x-python",
   "name": "python",
   "nbconvert_exporter": "python",
   "pygments_lexer": "ipython3",
   "version": "3.5.2"
  }
 },
 "nbformat": 4,
 "nbformat_minor": 4
}

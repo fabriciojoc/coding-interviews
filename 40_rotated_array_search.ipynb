{
 "cells": [
  {
   "cell_type": "markdown",
   "metadata": {},
   "source": [
    "# Rotated Sorted Array Search\n",
    "\n",
    "Given an array of integers A of size N and an integer B.\n",
    "\n",
    "array A is rotated at some pivot unknown to you beforehand.\n",
    "\n",
    "(i.e., 0 1 2 4 5 6 7  might become 4 5 6 7 0 1 2 ).\n",
    "\n",
    "You are given a target value B to search. If found in the array, return its index, otherwise return -1.\n",
    "\n",
    "You may assume no duplicate exists in the array.\n",
    "\n",
    "NOTE:- Array A was sorted in non-decreasing order before rotation.\n",
    "\n",
    "NOTE : Think about the case when there are duplicates. Does your current solution work? How does the time complexity change?*\n",
    "Input Format\n",
    "\n",
    "The first argument given is the integer array A.\n",
    "The second argument given is the integer B.\n",
    "Output Format\n",
    "\n",
    "Return index of B in array A, otherwise return -1\n",
    "Constraints\n",
    "\n",
    "1 <= N <= 1000000\n",
    "1 <= A[i] <= 10^9\n",
    "all elements in A are disitinct.\n",
    "For Example\n",
    "\n",
    "Input 1:\n",
    "    A = [4, 5, 6, 7, 0, 1, 2, 3]\n",
    "    B = 4\n",
    "Output 1:\n",
    "    0\n",
    "Explanation 1:\n",
    " Target 4 is found at index 0 in A.\n",
    "\n",
    "\n",
    "Input 2:\n",
    "    A = [5, 17, 100, 3]\n",
    "    B = 6\n",
    "Output 2:\n",
    "    -1"
   ]
  },
  {
   "cell_type": "code",
   "execution_count": 1,
   "metadata": {},
   "outputs": [
    {
     "data": {
      "text/plain": [
       "0"
      ]
     },
     "execution_count": 1,
     "metadata": {},
     "output_type": "execute_result"
    }
   ],
   "source": [
    "class Solution:\n",
    "    # @param A : tuple of integers\n",
    "    # @param B : integer\n",
    "    # @return an integer\n",
    "    def search(self, A, B):\n",
    "        left = 0\n",
    "        right = len(A) - 1\n",
    "        # for i in range(len(A)):\n",
    "        while left <= right:\n",
    "            mid = (left + right)//2\n",
    "            l, m, r = A[left], A[mid], A[right]\n",
    "            if m == B:\n",
    "                return mid\n",
    "            elif l <= B <= m or (l > m and not (m < B <= r)):\n",
    "                right = mid - 1\n",
    "            else:\n",
    "                left = mid + 1\n",
    "        return -1\n",
    "    \n",
    "Solution().search([4,5,6,7,0,1,2,3], 4)"
   ]
  },
  {
   "cell_type": "code",
   "execution_count": 2,
   "metadata": {},
   "outputs": [
    {
     "data": {
      "text/plain": [
       "0"
      ]
     },
     "execution_count": 2,
     "metadata": {},
     "output_type": "execute_result"
    }
   ],
   "source": [
    "class Solution:\n",
    "    # @param A : tuple of integers\n",
    "    # @param B : integer\n",
    "    # @return an integer\n",
    "    def search(self, A, B):\n",
    "        for i in range(len(A)):\n",
    "            if A[i] == B:\n",
    "                return i\n",
    "        return -1\n",
    "Solution().search([4,5,6,7,0,1,2,3], 4)"
   ]
  }
 ],
 "metadata": {
  "kernelspec": {
   "display_name": "Python 3",
   "language": "python",
   "name": "python3"
  },
  "language_info": {
   "codemirror_mode": {
    "name": "ipython",
    "version": 3
   },
   "file_extension": ".py",
   "mimetype": "text/x-python",
   "name": "python",
   "nbconvert_exporter": "python",
   "pygments_lexer": "ipython3",
   "version": "3.5.2"
  }
 },
 "nbformat": 4,
 "nbformat_minor": 4
}

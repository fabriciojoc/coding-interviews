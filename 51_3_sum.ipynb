{
 "cells": [
  {
   "cell_type": "markdown",
   "metadata": {},
   "source": [
    "# 3 Sum\n",
    "\n",
    "Given an array S of n integers, find three integers in S such that the sum is closest to a given number, target. \n",
    "\n",
    "Return the sum of the three integers.\n",
    "\n",
    "Assume that there will only be one solution\n",
    "\n",
    "Example: \n",
    "\n",
    "given array S = {-1 2 1 -4}, \n",
    "\n",
    "and target = 1.\n",
    "\n",
    "The sum that is closest to the target is 2. (-1 + 2 + 1 = 2)"
   ]
  },
  {
   "cell_type": "code",
   "execution_count": 21,
   "metadata": {},
   "outputs": [],
   "source": [
    "import math\n",
    "\n",
    "class Solution:\n",
    "    # @param A : list of integers\n",
    "    # @param B : integer\n",
    "    # @return an integer\n",
    "    def threeSumClosest(self, A, B):\n",
    "        closest = math.inf\n",
    "        result = None\n",
    "        for i in range(len(A)-2):\n",
    "            for j in range(i+1, len(A)-1):\n",
    "                for k in range(j+1, len(A)):\n",
    "                    # print(A[i], A[j], A[k])\n",
    "                    if abs(A[i] + A[j] + A[k] - B) < closest:\n",
    "                        closest = abs(A[i] + A[j] + A[k] - B)\n",
    "                        result = A[i] + A[j] + A[k]\n",
    "        return result"
   ]
  },
  {
   "cell_type": "code",
   "execution_count": 22,
   "metadata": {},
   "outputs": [
    {
     "data": {
      "text/plain": [
       "2"
      ]
     },
     "execution_count": 22,
     "metadata": {},
     "output_type": "execute_result"
    }
   ],
   "source": [
    "Solution().threeSumClosest([-1, 2, 1, -4], 1)"
   ]
  }
 ],
 "metadata": {
  "kernelspec": {
   "display_name": "Python 3",
   "language": "python",
   "name": "python3"
  },
  "language_info": {
   "codemirror_mode": {
    "name": "ipython",
    "version": 3
   },
   "file_extension": ".py",
   "mimetype": "text/x-python",
   "name": "python",
   "nbconvert_exporter": "python",
   "pygments_lexer": "ipython3",
   "version": "3.5.2"
  }
 },
 "nbformat": 4,
 "nbformat_minor": 4
}

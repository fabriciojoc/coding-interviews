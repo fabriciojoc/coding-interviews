{
 "cells": [
  {
   "cell_type": "markdown",
   "metadata": {},
   "source": [
    "# Unique Paths in a Grid\n",
    "\n",
    "Given a grid of size m * n, lets assume you are starting at (1,1) and your goal is to reach (m,n). At any instance, if you are on (x,y), you can either go to (x, y + 1) or (x + 1, y).\n",
    "\n",
    "Now consider if some obstacles are added to the grids. How many unique paths would there be?\n",
    "\n",
    "An obstacle and empty space is marked as 1 and 0 respectively in the grid.\n",
    "\n",
    "Example :\n",
    "\n",
    "There is one obstacle in the middle of a 3x3 grid as illustrated below.\n",
    "\n",
    "[\n",
    "  [0,0,0],\n",
    "  \n",
    "  [0,1,0],\n",
    "  \n",
    "  [0,0,0]\n",
    "  \n",
    "]\n",
    "\n",
    "The total number of unique paths is 2.\n",
    "\n",
    "Note: m and n will be at most 100."
   ]
  },
  {
   "cell_type": "code",
   "execution_count": 5,
   "metadata": {},
   "outputs": [],
   "source": [
    "def uniquePathsWithObstacles(A):\n",
    "    m, n = len(A), len(A[0])\n",
    "    if m == 1 and n == 1 and A[0][0] == 0:\n",
    "        return 1\n",
    "    elif m == 1 and n == 1 and A[0][0] == 1:\n",
    "        return 0\n",
    "    x, y = 0, 0\n",
    "    paths = 0\n",
    "    possibilities = [[x,y]]\n",
    "    while len(possibilities) > 0:\n",
    "        x, y = possibilities.pop()\n",
    "        if A[x][y] == 0:\n",
    "            if x + 1 < m:\n",
    "                if A[x+1][y] == 0:\n",
    "                    possibilities.append([x+1, y])\n",
    "            if y + 1 < n:\n",
    "                if A[x][y+1] == 0:\n",
    "                    possibilities.append([x, y+1])\n",
    "        if x == m-1 and y == n-1:\n",
    "            paths += 1\n",
    "            #paths = max(paths, len(possibilities))\n",
    "    return(paths)"
   ]
  },
  {
   "cell_type": "code",
   "execution_count": 6,
   "metadata": {},
   "outputs": [
    {
     "data": {
      "text/plain": [
       "0"
      ]
     },
     "execution_count": 6,
     "metadata": {},
     "output_type": "execute_result"
    }
   ],
   "source": [
    "uniquePathsWithObstacles([[0,1]])"
   ]
  }
 ],
 "metadata": {
  "kernelspec": {
   "display_name": "Python 3",
   "language": "python",
   "name": "python3"
  },
  "language_info": {
   "codemirror_mode": {
    "name": "ipython",
    "version": 3
   },
   "file_extension": ".py",
   "mimetype": "text/x-python",
   "name": "python",
   "nbconvert_exporter": "python",
   "pygments_lexer": "ipython3",
   "version": "3.5.2"
  }
 },
 "nbformat": 4,
 "nbformat_minor": 4
}

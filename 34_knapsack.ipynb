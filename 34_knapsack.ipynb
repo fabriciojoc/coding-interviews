{
 "cells": [
  {
   "cell_type": "markdown",
   "metadata": {},
   "source": [
    "# 0-1 Knapsack\n",
    "\n",
    "Problem Description\n",
    "\n",
    "Given two integer arrays A and B of size N each which represent values and weights associated with N items respectively.\n",
    "\n",
    "Also given an integer C which represents knapsack capacity.\n",
    "\n",
    "Find out the maximum value subset of A such that sum of the weights of this subset is smaller than or equal to C.\n",
    "\n",
    "NOTE:\n",
    "\n",
    "You cannot break an item, either pick the complete item, or don’t pick it (0-1 property).\n",
    "\n",
    "\n",
    "Problem Constraints\n",
    "1 <= N <= 103\n",
    "\n",
    "1 <= C <= 103\n",
    "\n",
    "1 <= A[i], B[i] <= 103\n",
    "\n",
    "\n",
    "\n",
    "Input Format\n",
    "First argument is an integer array A of size N denoting the values on N items.\n",
    "\n",
    "Second argument is an integer array B of size N denoting the weights on N items.\n",
    "\n",
    "Third argument is an integer C denoting the knapsack capacity.\n",
    "\n",
    "\n",
    "\n",
    "Output Format\n",
    "Return a single integer denoting the maximum value subset of A such that sum of the weights of this subset is smaller than or equal to C.\n",
    "\n",
    "\n",
    "\n",
    "Example Input\n",
    "Input 1:\n",
    "\n",
    " A = [60, 100, 120]\n",
    " B = [10, 20, 30]\n",
    " C = 50\n",
    "Input 2:\n",
    "\n",
    " A = [10, 20, 30, 40]\n",
    " B = [12, 13, 15, 19]\n",
    " C = 10\n",
    "\n",
    "\n",
    "Example Output\n",
    "Output 1:\n",
    "\n",
    " 220\n",
    "Output 2:\n",
    "\n",
    " 0\n",
    "\n",
    "\n",
    "Example Explanation\n",
    "Explanation 1:\n",
    "\n",
    " Taking items with weight 20 and 30 will give us the maximum value i.e 100 + 120 = 220\n",
    "Explanation 2:\n",
    "\n",
    " Knapsack capacity is 10 but each item has weight greater than 10 so no items can be considered in the knapsack therefore answer is 0."
   ]
  },
  {
   "cell_type": "code",
   "execution_count": 1,
   "metadata": {},
   "outputs": [
    {
     "data": {
      "text/plain": [
       "220"
      ]
     },
     "execution_count": 1,
     "metadata": {},
     "output_type": "execute_result"
    }
   ],
   "source": [
    "def knapsack(A, B, C):\n",
    "    n = len(A)\n",
    "    dp = [[0 for x in range(C+1)] for x in range(n+1)]\n",
    "    for i in range(1, n+1):\n",
    "        for w in range(1, C+1):\n",
    "            if B[i-1] <= w:\n",
    "                dp[i][w] = max(A[i-1] + dp[i-1][w-B[i-1]],  dp[i-1][w])\n",
    "            else:\n",
    "                dp[i][w] = dp[i-1][w]\n",
    "    return dp[n][C]\n",
    "\n",
    "knapsack([60, 100, 120], [10, 20, 30], 50)"
   ]
  }
 ],
 "metadata": {
  "kernelspec": {
   "display_name": "Python 3",
   "language": "python",
   "name": "python3"
  },
  "language_info": {
   "codemirror_mode": {
    "name": "ipython",
    "version": 3
   },
   "file_extension": ".py",
   "mimetype": "text/x-python",
   "name": "python",
   "nbconvert_exporter": "python",
   "pygments_lexer": "ipython3",
   "version": "3.5.2"
  }
 },
 "nbformat": 4,
 "nbformat_minor": 4
}

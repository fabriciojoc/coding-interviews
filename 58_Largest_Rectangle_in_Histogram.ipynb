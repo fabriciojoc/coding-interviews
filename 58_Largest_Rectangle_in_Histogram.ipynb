{
 "cells": [
  {
   "cell_type": "markdown",
   "metadata": {},
   "source": [
    "# Largest Rectangle in Histogram\n",
    "\n",
    "Problem Description\n",
    " \n",
    " \n",
    "\n",
    "Given an array of integers A .\n",
    "\n",
    "A represents a histogram i.e A[i] denotes height of the ith histogram's bar. Width of each bar is 1.\n",
    "\n",
    "Find the area of the largest rectangle formed by the histogram.\n",
    "\n",
    "\n",
    "\n",
    "Problem Constraints\n",
    "1 <= |A| <= 100000\n",
    "\n",
    "1 <= A[i] <= 1000000000\n",
    "\n",
    "\n",
    "\n",
    "Input Format\n",
    "The only argument given is the integer array A.\n",
    "\n",
    "\n",
    "\n",
    "Output Format\n",
    "Return the area of largest rectangle in the histogram.\n",
    "\n",
    "\n",
    "\n",
    "Example Input\n",
    "Input 1:\n",
    "\n",
    " A = [2, 1, 5, 6, 2, 3]\n",
    "Input 2:\n",
    "\n",
    " A = [2]\n",
    "\n",
    "\n",
    "Example Output\n",
    "Output 1:\n",
    "\n",
    " 10\n",
    "Output 2:\n",
    "\n",
    " 2\n",
    "\n",
    "\n",
    "Example Explanation\n",
    "Explanation 1:\n",
    "\n",
    "The largest rectangle has area = 10 unit. Formed by A[3] to A[4].\n",
    "Explanation 2:\n",
    "\n",
    "Largest rectangle has area 2."
   ]
  },
  {
   "cell_type": "code",
   "execution_count": 16,
   "metadata": {},
   "outputs": [],
   "source": [
    "class Solution:\n",
    "    #   6       |\n",
    "    #   5     | |\n",
    "    #   4     | |\n",
    "    #   3     | |   |\n",
    "    #   2 |   | | | |\n",
    "    #   1 | | | | | |\n",
    "    #   0 1 2 3 4 5 6\n",
    "    #         |\n",
    "    #           |           \n",
    "    #   m = 10\n",
    "    # @param A : list of integers\n",
    "    # @return an integer\n",
    "    def largestRectangleArea(self, A):\n",
    "        m = 0\n",
    "        for i in range(len(A)):\n",
    "            for j in range(i, len(A)):\n",
    "                if i == j:\n",
    "                    base = 1\n",
    "                    height = A[i]\n",
    "                else:\n",
    "                    base = j - i + 1\n",
    "                    height = min(A[i:j+1])\n",
    "                # print(\"[{}, {}]\".format(i,j),base, \"*\", height, '=', base*height)\n",
    "                m = max(m, base*height)\n",
    "        return m\n",
    "                "
   ]
  },
  {
   "cell_type": "code",
   "execution_count": 17,
   "metadata": {},
   "outputs": [
    {
     "data": {
      "text/plain": [
       "10"
      ]
     },
     "execution_count": 17,
     "metadata": {},
     "output_type": "execute_result"
    }
   ],
   "source": [
    "Solution().largestRectangleArea([2, 1, 5, 6, 2, 3])"
   ]
  }
 ],
 "metadata": {
  "kernelspec": {
   "display_name": "Python 3",
   "language": "python",
   "name": "python3"
  },
  "language_info": {
   "codemirror_mode": {
    "name": "ipython",
    "version": 3
   },
   "file_extension": ".py",
   "mimetype": "text/x-python",
   "name": "python",
   "nbconvert_exporter": "python",
   "pygments_lexer": "ipython3",
   "version": "3.5.2"
  }
 },
 "nbformat": 4,
 "nbformat_minor": 4
}

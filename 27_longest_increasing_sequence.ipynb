{
 "cells": [
  {
   "cell_type": "markdown",
   "metadata": {},
   "source": [
    "#Longest Increasing Subsequence\n",
    "\n",
    "Find the longest increasing subsequence of a given array of integers, A.\n",
    "\n",
    "In other words, find a subsequence of array in which the subsequence’s elements are in strictly increasing order, and in which the subsequence is as long as possible. \n",
    "\n",
    "This subsequence is not necessarily contiguous, or unique.\n",
    "\n",
    "In this case, we only care about the length of the longest increasing subsequence.\n",
    "\n",
    "## Input Format:\n",
    "\n",
    "The first and the only argument is an integer array A.\n",
    "\n",
    "## Output Format:\n",
    "\n",
    "Return an integer representing the length of the longest increasing subsequence.\n",
    "\n",
    "Constraints:\n",
    "\n",
    "1 <= length(A) <= 2000\n",
    "0 <= A[i] <= 2500\n",
    "Example :\n",
    "\n",
    "Input 1:\n",
    "    A = [1, 2, 1, 5]\n",
    "\n",
    "Output 1:\n",
    "    3\n",
    "    \n",
    "Explanation 1:\n",
    "    The sequence : [1, 2, 5]\n",
    "\n",
    "Input 2:\n",
    "    A = [0, 8, 4, 12, 2, 10, 6, 14, 1, 9, 5, 13, 3, 11, 7, 15]\n",
    "    \n",
    "Output 2:\n",
    "    6\n",
    "\n",
    "Explanation 2:\n",
    "    The sequence : [0, 2, 6, 9, 13, 15] or [0, 4, 6, 9, 11, 15] or [0, 4, 6, 9, 13, 15]"
   ]
  },
  {
   "cell_type": "code",
   "execution_count": 6,
   "metadata": {},
   "outputs": [
    {
     "name": "stdout",
     "output_type": "stream",
     "text": [
      "5\n",
      "4\n"
     ]
    }
   ],
   "source": [
    "# you can write to stdout for debugging purposes, e.g.\n",
    "#print(\"This is a debug message\")\n",
    "\n",
    "# [5 6 1 3 9 4 2 7 8]\n",
    "# [1 2 1 2 3 3 2 4 5]\n",
    "#\n",
    "#\n",
    "#\n",
    "\n",
    "# 1: [5]\n",
    "# size: 1\n",
    "# [1, 2]\n",
    "#    |\n",
    "#2: [5,6]\n",
    "# size: 2\n",
    "# lowest: 5\n",
    "\n",
    "#     |\n",
    "#[5,6,1]\n",
    "\n",
    "\n",
    "def longest_sequence(A):\n",
    "    tests = [1]*len(A)\n",
    "    for i in range(0,len(A)):\n",
    "        # iterate from j to i\n",
    "        for j in range(i):\n",
    "            if A[j] < A[i]:\n",
    "                tests[i] = max(tests[i], 1 + tests[j])\n",
    "    return(max(tests))\n",
    "#[\n",
    "#    [5], [5,6], [5,1]\n",
    "#]\n",
    "\n",
    "arr = [5, 6, 1, 3, 9, 4, 2, 7, 8]\n",
    "print(longest_sequence(arr))\n",
    "\n",
    "arr = [1,2,3,4]\n",
    "print(longest_sequence(arr))"
   ]
  }
 ],
 "metadata": {
  "kernelspec": {
   "display_name": "Python 3",
   "language": "python",
   "name": "python3"
  },
  "language_info": {
   "codemirror_mode": {
    "name": "ipython",
    "version": 3
   },
   "file_extension": ".py",
   "mimetype": "text/x-python",
   "name": "python",
   "nbconvert_exporter": "python",
   "pygments_lexer": "ipython3",
   "version": "3.5.2"
  }
 },
 "nbformat": 4,
 "nbformat_minor": 4
}

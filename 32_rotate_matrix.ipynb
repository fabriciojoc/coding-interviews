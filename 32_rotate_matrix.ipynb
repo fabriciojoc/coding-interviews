{
 "cells": [
  {
   "cell_type": "markdown",
   "metadata": {},
   "source": [
    "# Rotate Matrix\n",
    "\n",
    "You are given an n x n 2D matrix representing an image.\n",
    "\n",
    "Rotate the image by 90 degrees (clockwise).\n",
    "\n",
    "You need to do this in place.\n",
    "\n",
    "Note that if you end up using an additional array, you will only receive partial score.\n",
    "\n",
    "## Example:\n",
    "\n",
    "If the array is\n",
    "\n",
    "``[\n",
    "    [1, 2],\n",
    "    [3, 4]\n",
    "]``\n",
    "\n",
    "Then the rotated array becomes:\n",
    "\n",
    "``[\n",
    "    [3, 1],\n",
    "    [4, 2]\n",
    "]``"
   ]
  },
  {
   "cell_type": "code",
   "execution_count": 3,
   "metadata": {},
   "outputs": [
    {
     "data": {
      "text/plain": [
       "[[3, 1], [4, 2]]"
      ]
     },
     "execution_count": 3,
     "metadata": {},
     "output_type": "execute_result"
    }
   ],
   "source": [
    "# @param A : list of list of integers\n",
    "# @return the same list modified\n",
    "def rotate(A):\n",
    "    n = len(A)\n",
    "    out = []\n",
    "    for j in range(n):\n",
    "        line = []\n",
    "        for i in range(n-1, -1, -1):\n",
    "            line.append(A[i][j])\n",
    "        out.append(line)\n",
    "    return out\n",
    "\n",
    "rotate([[1,2], [3,4]])"
   ]
  }
 ],
 "metadata": {
  "kernelspec": {
   "display_name": "Python 3",
   "language": "python",
   "name": "python3"
  },
  "language_info": {
   "codemirror_mode": {
    "name": "ipython",
    "version": 3
   },
   "file_extension": ".py",
   "mimetype": "text/x-python",
   "name": "python",
   "nbconvert_exporter": "python",
   "pygments_lexer": "ipython3",
   "version": "3.5.2"
  }
 },
 "nbformat": 4,
 "nbformat_minor": 4
}

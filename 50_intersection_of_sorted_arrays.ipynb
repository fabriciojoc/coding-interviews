{
 "cells": [
  {
   "cell_type": "markdown",
   "metadata": {},
   "source": [
    "# Intersection Of Sorted Arrays\n",
    "\n",
    "Problem Description\n",
    "\n",
    "Find the intersection of two sorted arrays. OR in other words, Given 2 sorted arrays, find all the elements which occur in both the arrays.\n",
    "\n",
    "Example:\n",
    "\n",
    "Input:\n",
    "    A: [1 2 3 3 4 5 6]\n",
    "    B: [3 3 5]\n",
    "\n",
    "\n",
    "Output: [3 3 5]\n",
    "\n",
    "\n",
    "\n",
    "Input:\n",
    "    A: [1 2 3 3 4 5 6]\n",
    "    B: [3 5]\n",
    "\n",
    "\n",
    "\n",
    "Output: [3 5]\n",
    "\n",
    "NOTE : For the purpose of this problem ( as also conveyed by the sample case ), assume that elements that appear more than once in both arrays should be included multiple times in the final output. "
   ]
  },
  {
   "cell_type": "code",
   "execution_count": 4,
   "metadata": {},
   "outputs": [],
   "source": [
    "class Solution:\n",
    "    # @param A : tuple of integers\n",
    "    # @param B : tuple of integers\n",
    "    # @return a list of integers\n",
    "    def intersect(self, A, B):\n",
    "        out = []\n",
    "        b_copy = list(B)\n",
    "        i = 0\n",
    "        j = 0\n",
    "        while i < len(A) and j < len(B):\n",
    "            if A[i] == B[j]:\n",
    "                out.append(A[i])\n",
    "                i += 1\n",
    "                j += 1\n",
    "            elif B[j] > A[i]:\n",
    "                i += 1\n",
    "            else:\n",
    "                j += 1\n",
    "        # for item in A:\n",
    "        #     if item in b_copy:\n",
    "        #         out.append(item)\n",
    "        #         del b_copy[b_copy.index(item)]\n",
    "        return out"
   ]
  },
  {
   "cell_type": "code",
   "execution_count": 5,
   "metadata": {},
   "outputs": [
    {
     "data": {
      "text/plain": [
       "[3, 3, 5]"
      ]
     },
     "execution_count": 5,
     "metadata": {},
     "output_type": "execute_result"
    }
   ],
   "source": [
    "Solution().intersect([1,2,3,3,4,5,6], [3,3,5])"
   ]
  }
 ],
 "metadata": {
  "kernelspec": {
   "display_name": "Python 3",
   "language": "python",
   "name": "python3"
  },
  "language_info": {
   "codemirror_mode": {
    "name": "ipython",
    "version": 3
   },
   "file_extension": ".py",
   "mimetype": "text/x-python",
   "name": "python",
   "nbconvert_exporter": "python",
   "pygments_lexer": "ipython3",
   "version": "3.5.2"
  }
 },
 "nbformat": 4,
 "nbformat_minor": 4
}

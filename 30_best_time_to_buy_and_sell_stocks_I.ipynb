{
 "cells": [
  {
   "cell_type": "markdown",
   "metadata": {},
   "source": [
    "# Best Time to Buy and Sell Stocks I\n",
    "\n",
    "Problem Description\n",
    "\n",
    "Say you have an array, A, for which the ith element is the price of a given stock on day i.\n",
    "If you were only permitted to complete at most one transaction (i.e, buy one and sell one share of the stock), design an algorithm to find the maximum profit.\n",
    "\n",
    "Return the maximum possible profit.\n",
    "\n",
    "\n",
    "\n",
    "Problem Constraints\n",
    "0 <= len(A) <= 7e5\n",
    "\n",
    "1 <= A[i] <= 1e7\n",
    "\n",
    "\n",
    "\n",
    "Input Format\n",
    "The first and the only argument is an array of integers, A.\n",
    "\n",
    "\n",
    "\n",
    "Output Format\n",
    "Return an integer, representing the maximum possible profit.\n",
    "\n",
    "\n",
    "\n",
    "Example Input\n",
    "Input 1:\n",
    "\n",
    " A = [1, 2]\n",
    "Input 2:\n",
    "\n",
    " A = [1, 4, 5, 2, 4]\n",
    "\n",
    "\n",
    "Example Output\n",
    "Output 1:\n",
    " 1\n",
    "Output 2:\n",
    "\n",
    " 4\n",
    "\n",
    "\n",
    "Example Explanation\n",
    "Explanation 1:\n",
    "\n",
    " Buy the stock on day 0, and sell it on day 1.\n",
    "Explanation 2:\n",
    "\n",
    " Buy the stock on day 0, and sell it on day 2.\n"
   ]
  },
  {
   "cell_type": "code",
   "execution_count": 2,
   "metadata": {},
   "outputs": [
    {
     "name": "stdout",
     "output_type": "stream",
     "text": [
      "1\n",
      "4\n"
     ]
    }
   ],
   "source": [
    "def maxProfit(A):\n",
    "    if len(A) == 0:\n",
    "        return 0\n",
    "    profit = -99999\n",
    "    for i in range(len(A)-1):\n",
    "        for j in range(i+1, len(A)):\n",
    "            if A[j] - A[i] > profit:\n",
    "                profit = A[j] - A[i]\n",
    "    if profit < 0:\n",
    "        return 0\n",
    "    return profit\n",
    "\n",
    "print(maxProfit(A=[1,2]))\n",
    "print(maxProfit(A=[1,4,5,2,4]))"
   ]
  }
 ],
 "metadata": {
  "kernelspec": {
   "display_name": "Python 3",
   "language": "python",
   "name": "python3"
  },
  "language_info": {
   "codemirror_mode": {
    "name": "ipython",
    "version": 3
   },
   "file_extension": ".py",
   "mimetype": "text/x-python",
   "name": "python",
   "nbconvert_exporter": "python",
   "pygments_lexer": "ipython3",
   "version": "3.5.2"
  }
 },
 "nbformat": 4,
 "nbformat_minor": 4
}

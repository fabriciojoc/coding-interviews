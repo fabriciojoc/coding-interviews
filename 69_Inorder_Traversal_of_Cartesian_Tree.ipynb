{
 "cells": [
  {
   "cell_type": "markdown",
   "metadata": {},
   "source": [
    "# Inorder Traversal of Cartesian Tree"
   ]
  },
  {
   "cell_type": "code",
   "execution_count": 8,
   "metadata": {},
   "outputs": [],
   "source": [
    "# import operator\n",
    "\n",
    "# Definition for a  binary tree node\n",
    "class TreeNode:\n",
    "    def __init__(self, x):\n",
    "        self.val = x\n",
    "        self.left = None\n",
    "        self.right = None\n",
    "\n",
    "class Solution:\n",
    "    # @param A : list of integers\n",
    "    # @return the root node in the tree\n",
    "    def buildTree(self, A):\n",
    "        if not A:\n",
    "            return None\n",
    "            \n",
    "        max_value = max(A)\n",
    "        max_index = A.index(max_value)\n",
    "        # max_index, max_value = max(enumerate(A), key=operator.itemgetter(1))\n",
    "        \n",
    "        root = TreeNode(max_value)\n",
    "        root.left = self.buildTree(A[:max_index])\n",
    "        root.right = self.buildTree(A[max_index+1:])\n",
    "        \n",
    "        return root\n",
    "    \n",
    "def printTree(node):\n",
    "    if node:\n",
    "        printTree(node.left)\n",
    "        printTree(node.right)\n",
    "        print(node.val)"
   ]
  },
  {
   "cell_type": "code",
   "execution_count": 9,
   "metadata": {},
   "outputs": [],
   "source": [
    "tree = Solution().buildTree([3,7,4,8])"
   ]
  },
  {
   "cell_type": "code",
   "execution_count": 10,
   "metadata": {},
   "outputs": [
    {
     "name": "stdout",
     "output_type": "stream",
     "text": [
      "3\n",
      "4\n",
      "7\n",
      "8\n"
     ]
    }
   ],
   "source": [
    "printTree(tree)"
   ]
  }
 ],
 "metadata": {
  "kernelspec": {
   "display_name": "Python 3",
   "language": "python",
   "name": "python3"
  },
  "language_info": {
   "codemirror_mode": {
    "name": "ipython",
    "version": 3
   },
   "file_extension": ".py",
   "mimetype": "text/x-python",
   "name": "python",
   "nbconvert_exporter": "python",
   "pygments_lexer": "ipython3",
   "version": "3.5.2"
  }
 },
 "nbformat": 4,
 "nbformat_minor": 4
}

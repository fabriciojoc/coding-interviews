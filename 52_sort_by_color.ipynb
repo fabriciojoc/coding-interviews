{
 "cells": [
  {
   "cell_type": "markdown",
   "metadata": {},
   "source": [
    "# Sort by Color\n",
    "\n",
    "Given an array with n objects colored red, white or blue, \n",
    "\n",
    "sort them so that objects of the same color are adjacent, with the colors in the order red, white and blue.\n",
    "\n",
    "Here, we will use the integers 0, 1, and 2 to represent the color red, white, and blue respectively.\n",
    "\n",
    "Note: Using library sort function is not allowed.\n",
    "\n",
    "Example :\n",
    "\n",
    "Input : [0 1 2 0 1 2]\n",
    "Modify array so that it becomes : [0 0 1 1 2 2]"
   ]
  },
  {
   "cell_type": "code",
   "execution_count": 5,
   "metadata": {},
   "outputs": [],
   "source": [
    "class Solution:\n",
    "    # @param A : list of integers\n",
    "    # @return A after the sort\n",
    "    def sortColors(self, A):\n",
    "        k = 0\n",
    "        for i in range(0,3):\n",
    "            for j in range(k, len(A)):\n",
    "                if A[j] == i:\n",
    "                    A[j], A[k] = A[k], A[j]\n",
    "                    k += 1\n",
    "        return A\n",
    "        # if len(A) == 1:\n",
    "        #     return A\n",
    "        # i = 0\n",
    "        # while i < len(A)-1: #for i in range(len(A)-1):\n",
    "        #     if A[i+1] < A[i]:\n",
    "        #         tmp = A[i]\n",
    "        #         A[i] = A[i+1]\n",
    "        #         A[i+1] = tmp\n",
    "        #         if i > 0:\n",
    "        #             i -= 1 \n",
    "        #         else:\n",
    "        #             i += 1\n",
    "        #     else:\n",
    "        #         i += 1\n",
    "        # return A"
   ]
  },
  {
   "cell_type": "code",
   "execution_count": 6,
   "metadata": {},
   "outputs": [
    {
     "data": {
      "text/plain": [
       "[0, 0, 1, 1, 2, 2]"
      ]
     },
     "execution_count": 6,
     "metadata": {},
     "output_type": "execute_result"
    }
   ],
   "source": [
    "Solution().sortColors([0, 1, 2, 0, 1, 2])"
   ]
  }
 ],
 "metadata": {
  "kernelspec": {
   "display_name": "Python 3",
   "language": "python",
   "name": "python3"
  },
  "language_info": {
   "codemirror_mode": {
    "name": "ipython",
    "version": 3
   },
   "file_extension": ".py",
   "mimetype": "text/x-python",
   "name": "python",
   "nbconvert_exporter": "python",
   "pygments_lexer": "ipython3",
   "version": "3.5.2"
  }
 },
 "nbformat": 4,
 "nbformat_minor": 4
}

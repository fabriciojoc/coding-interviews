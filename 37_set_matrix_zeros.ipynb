{
 "cells": [
  {
   "cell_type": "markdown",
   "metadata": {},
   "source": [
    "# Set Matrix Zeros\n",
    "\n",
    "Given a matrix, A of size M x N of 0s and 1s. If an element is 0, set its entire row and column to 0.\n",
    "Note: This will be evaluated on the extra memory used. Try to minimize the space and time complexity.\n",
    "\n",
    "Input Format:\n",
    "\n",
    "The first and the only argument of input contains a 2-d integer matrix, A, of size M x N.\n",
    "Output Format:\n",
    "\n",
    "Return a 2-d matrix that satisfies the given conditions.\n",
    "Constraints:\n",
    "\n",
    "1 &lt;= N, M &lt;= 1000\n",
    "0 &lt;= A[i][j] &lt;= 1\n",
    "Examples:\n",
    "\n",
    "Input 1:\n",
    "    [   [1, 0, 1],\n",
    "        [1, 1, 1], \n",
    "        [1, 1, 1]   ]\n",
    "\n",
    "\n",
    "Output 1:\n",
    "    [   [0, 0, 0],\n",
    "        [1, 0, 1],\n",
    "        [1, 0, 1]   ]\n",
    "\n",
    "\n",
    "\n",
    "Input 2:\n",
    "    [   [1, 0, 1],\n",
    "        [1, 1, 1],\n",
    "        [1, 0, 1]   ]\n",
    "\n",
    "\n",
    "\n",
    "Output 2:\n",
    "    [   [0, 0, 0],\n",
    "        [1, 0, 1],\n",
    "        [0, 0, 0]   ]\n",
    "\n"
   ]
  },
  {
   "cell_type": "code",
   "execution_count": 1,
   "metadata": {},
   "outputs": [
    {
     "data": {
      "text/plain": [
       "[[0, 0, 0], [1, 0, 1], [1, 0, 1]]"
      ]
     },
     "execution_count": 1,
     "metadata": {},
     "output_type": "execute_result"
    }
   ],
   "source": [
    "# @param A : list of list of integers\n",
    "# @return the same list modified\n",
    "def setZeroes(A):\n",
    "    n, m = len(A), len(A[0])\n",
    "    lines = set()\n",
    "    cols = set()\n",
    "    for i in range(n):\n",
    "        for j in range(m):\n",
    "            if A[i][j] == 0:\n",
    "                lines.add(i)\n",
    "                cols.add(j)\n",
    "    for l in lines:\n",
    "        for j in range(m):\n",
    "            A[l][j] = 0\n",
    "    for c in cols:\n",
    "        for i in range(n):\n",
    "            A[i][c] = 0\n",
    "    return A\n",
    "\n",
    "setZeroes([ [1, 0, 1], [1, 1, 1], [1, 1, 1] ])"
   ]
  }
 ],
 "metadata": {
  "kernelspec": {
   "display_name": "Python 3",
   "language": "python",
   "name": "python3"
  },
  "language_info": {
   "codemirror_mode": {
    "name": "ipython",
    "version": 3
   },
   "file_extension": ".py",
   "mimetype": "text/x-python",
   "name": "python",
   "nbconvert_exporter": "python",
   "pygments_lexer": "ipython3",
   "version": "3.5.2"
  }
 },
 "nbformat": 4,
 "nbformat_minor": 4
}
